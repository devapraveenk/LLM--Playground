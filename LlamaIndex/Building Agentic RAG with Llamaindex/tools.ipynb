{
 "cells": [
  {
   "cell_type": "markdown",
   "metadata": {},
   "source": [
    "# Tools"
   ]
  },
  {
   "cell_type": "code",
   "execution_count": 80,
   "metadata": {},
   "outputs": [
    {
     "data": {
      "text/plain": [
       "True"
      ]
     },
     "execution_count": 80,
     "metadata": {},
     "output_type": "execute_result"
    }
   ],
   "source": [
    "from dotenv import load_dotenv\n",
    "load_dotenv()"
   ]
  },
  {
   "cell_type": "code",
   "execution_count": 81,
   "metadata": {},
   "outputs": [],
   "source": [
    "from llama_index.core.tools import FunctionTool\n",
    "\n",
    "def addition(x: int, y: int) -> int:\n",
    "    return x + y\n",
    "\n",
    "def mystery(x: int, y: int) -> int:\n",
    "    return (x + y) * (x + y)\n",
    "\n",
    "addition_tool = FunctionTool.from_defaults(fn=addition)\n",
    "mystry_tool = FunctionTool.from_defaults(fn=mystery)"
   ]
  },
  {
   "cell_type": "code",
   "execution_count": 82,
   "metadata": {},
   "outputs": [
    {
     "name": "stdout",
     "output_type": "stream",
     "text": [
      "=== Calling Function ===\n",
      "Calling function: mystery with args: {\"x\": 2, \"y\": 9}\n",
      "=== Function Output ===\n",
      "121\n"
     ]
    },
    {
     "data": {
      "text/plain": [
       "AgentChatResponse(response='121', sources=[ToolOutput(content='121', tool_name='mystery', raw_input={'args': (), 'kwargs': {'x': 2, 'y': 9}}, raw_output=121, is_error=False)], source_nodes=[], is_dummy_stream=False, metadata=None)"
      ]
     },
     "execution_count": 82,
     "metadata": {},
     "output_type": "execute_result"
    }
   ],
   "source": [
    "from llama_index.llms.openai import OpenAI\n",
    "\n",
    "llm = OpenAI(model='gpt-4o-mini')\n",
    "response = llm.predict_and_call(\n",
    "    [addition_tool, mystry_tool],\n",
    "    \"Tell me the output of the mystry function on 2 and 9\",\n",
    "    verbose=True\n",
    ")\n",
    "\n",
    "response "
   ]
  },
  {
   "cell_type": "markdown",
   "metadata": {},
   "source": [
    "# Example"
   ]
  },
  {
   "cell_type": "code",
   "execution_count": 83,
   "metadata": {},
   "outputs": [
    {
     "name": "stderr",
     "output_type": "stream",
     "text": [
      "Ignoring wrong pointing object 6 0 (offset 0)\n",
      "Ignoring wrong pointing object 8 0 (offset 0)\n",
      "Ignoring wrong pointing object 10 0 (offset 0)\n",
      "Ignoring wrong pointing object 12 0 (offset 0)\n",
      "Ignoring wrong pointing object 14 0 (offset 0)\n",
      "Ignoring wrong pointing object 16 0 (offset 0)\n",
      "Ignoring wrong pointing object 18 0 (offset 0)\n",
      "Ignoring wrong pointing object 20 0 (offset 0)\n",
      "Ignoring wrong pointing object 22 0 (offset 0)\n",
      "Ignoring wrong pointing object 24 0 (offset 0)\n",
      "Ignoring wrong pointing object 26 0 (offset 0)\n",
      "Ignoring wrong pointing object 32 0 (offset 0)\n",
      "Ignoring wrong pointing object 34 0 (offset 0)\n",
      "Ignoring wrong pointing object 36 0 (offset 0)\n",
      "Ignoring wrong pointing object 38 0 (offset 0)\n",
      "Ignoring wrong pointing object 43 0 (offset 0)\n",
      "Ignoring wrong pointing object 45 0 (offset 0)\n"
     ]
    }
   ],
   "source": [
    "from llama_index.core import SimpleDirectoryReader\n",
    "\n",
    "#loading\n",
    "documents = SimpleDirectoryReader(input_files=['../src/The_7th_Sense_For_Data-Driven_Decision_Mastery_Paper_V2.pdf']).load_data()"
   ]
  },
  {
   "cell_type": "code",
   "execution_count": 84,
   "metadata": {},
   "outputs": [],
   "source": [
    "#splitting\n",
    "from llama_index.core.node_parser import SentenceSplitter\n",
    "\n",
    "splitter = SentenceSplitter(chunk_size=1024)\n",
    "nodes = splitter.get_nodes_from_documents(documents)"
   ]
  },
  {
   "cell_type": "code",
   "execution_count": 85,
   "metadata": {},
   "outputs": [
    {
     "name": "stdout",
     "output_type": "stream",
     "text": [
      "page_label: 1\n",
      "file_name: The_7th_Sense_For_Data-Driven_Decision_Mastery_Paper_V2.pdf\n",
      "file_path: ../src/The_7th_Sense_For_Data-Driven_Decision_Mastery_Paper_V2.pdf\n",
      "file_type: application/pdf\n",
      "file_size: 682557\n",
      "creation_date: 2024-11-05\n",
      "last_modified_date: 2024-10-30\n",
      "\n",
      "1  The 7th Sense For Data-Driven Decision Mastery Raja Brundha A  Assistant Professor Department of Artificial  Intelligence and Data Science,  Sri Sai Ram Engineering College, Chennai, Tamil Nadu, India. rajabrundha.ai@sairam.edu.in   Abubacker S  Student Department of Artificial  Intelligence and Data Science, Sri Sai Ram Engineering College, Chennai, Tamil Nadu, India. nav.abubacker@gmail.com    Deva Praveen K  Student Department of Artificial  Intelligence and Data Science,  Sri Sai Ram Engineering College, Chennai, Tamil Nadu, India. devapraveen20@gmail.com     Abstract— Our project automates the manual data analytics pipeline, transforming it into a seamless, AI-powered process designed to revolutionize decision-making and drive strategic innovation. By connecting to a client’s database, it automates data preprocessing, cleaning, and imputation, ensuring accurate data types through sophisticated feature-template similarity calculations. The system generates a comprehensive abstracted text file, detailing metadata, feature descriptions, missing values, and statistical summaries, alongside advanced analyses such as RFM, customer behavior clustering, and churn prediction. Leveraging cutting-edge generative AI with retrieval-augmented generation (RAG) and few-shot prompting, the project converts text files into embeddings, indexed in a vector database for insightful, similarity-based content retrieval. This allows decision-makers to quickly access vital insights, interpret complex data, and make informed decisions, ultimately driving business success. By providing a fast, accurate, and thorough analysis, our project empowers decision-makers to stay ahead of trends, transforming how data is used in strategic planning, and setting a new global standard in the competitive business world. Keywords—Retail Data Analytics, Retrieval augmented generation kRAG), Large Language Models (LLMs), Natural Language Processing, Few-Shot Learning, Business Intelligence, Analytics Agent, Statistical Patterns, Data-Driven Decision Marking, Retail trends , Business growth. I. INTRODUCTION In today’s data-driven world, businesses are inundated with vast amounts of data that hold the potential to unlock significant insights. However, the manual process of analyzing this data is often time-consuming, error-prone, and inefficient. As companies strive to remain competitive, the need for an automated, reliable, and intelligent data analytics system has never been more critical.  Traditional data analysis methods often require extensive human  intervention, from data cleaning and preprocessing to complex statistical analysis and visualization. These steps, while essential, can lead to inconsistencies and delays, impeding timely decision-making. The limitations of manual processes underscore the necessity for a more streamlined, automated solution that can handle large datasets with precision and speed.  Our project addresses these challenges by developing an advanced automated data analytics pipeline. This system is designed to seamlessly connect to client databases, fetch relevant data, and perform comprehensive preprocessing tasks, including cleaning, imputation, and ensuring correct data types. By automating these foundational steps, the system significantly reduces the potential for human error and accelerates the overall analysis process.  Beyond preprocessing, the system also generates detailed abstracts of the data, encompassing metadata, feature descriptions, and statistical summaries. These abstracts include rigorous statistical tests to identify normal distributions, outliers, and influential points. By providing this level of detail, the system ensures that decision-makers have access to a complete and accurate picture of the data at their disposal.  One of the standout features of our project is the integration of generative AI techniques, specifically retrieval-augmented generation (RAG) and few-shot prompting. These technologies enable the system to convert abstracted data files into embeddings, which are then indexed in a vector database. This allows for efficient, similarity-based content retrieval, facilitating more insightful and actionable analysis.  In addition to its analytical capabilities, the system incorporates a question-answering chatbox that interacts with decision-makers, helping to clarify requirements and refine analysis outputs. This interactive component ensures that the analysis is not only thorough but also aligned with the specific needs and goals of the business, enhancing its relevance and utility.  By automating and enhancing the data analysis process, our project empowers decision-makers with faster, more accurate, and more comprehensive insights. This not only accelerates strategic planning and implementation but also sets a new standard for how businesses leverage data in a rapidly evolving and competitive global marketplace.Related Works  II. LITERATURE SURVEY  The evolving landscape of retail, fashion, and data analysis has seen significant advances in machine learning, large language models (LLMs), and data-driven decision-making. This literature survey examines eight key papers, each contributing uniquely to the field, ranging from retail Bastin A  Student Department of Artificial  Intelligence and Data Science, Sri Sai Ram Engineering College, Chennai, Tamil Nadu, India.\n"
     ]
    }
   ],
   "source": [
    "print(nodes[0].get_content(metadata_mode='all'))"
   ]
  },
  {
   "cell_type": "code",
   "execution_count": 86,
   "metadata": {},
   "outputs": [],
   "source": [
    "#basic Query engine\n",
    "from llama_index.core import VectorStoreIndex\n",
    "\n",
    "vector_index = VectorStoreIndex(nodes)\n",
    "query_engine = vector_index.as_query_engine(similarity_top_k=2)"
   ]
  },
  {
   "cell_type": "code",
   "execution_count": 40,
   "metadata": {},
   "outputs": [
    {
     "name": "stdout",
     "output_type": "stream",
     "text": [
      "The 7th Sense in this context refers to the project's approach to automating the data analysis process from start to finish. It involves connecting to the client's database, fetching relevant data tables for analysis, performing automated preprocessing tasks like data cleaning and imputation, generating an abstracted text file with metadata and statistical summaries, identifying outliers, conducting advanced analyses such as RFM and customer behavior clustering, converting data into embeddings using generative AI, and engaging decision-makers through a question-answering chatbox to provide precise insights and strategic recommendations tailored to their needs.\n"
     ]
    }
   ],
   "source": [
    "#Using filters for specific page retrival\n",
    "from llama_index.core.vector_stores import MetadataFilters\n",
    "\n",
    "query_engine = vector_index.as_query_engine(\n",
    "    similarity_top_k=2,\n",
    "    filters=MetadataFilters.from_dicts(\n",
    "        [\n",
    "            {'key': 'page_label', 'value': '3'} #based on the pageno retrival\n",
    "        ]\n",
    "    )\n",
    ")\n",
    "response = query_engine.query(\n",
    "    \"What is 7th Sense\"\n",
    ")\n",
    "print(str(response))"
   ]
  },
  {
   "cell_type": "code",
   "execution_count": 41,
   "metadata": {},
   "outputs": [
    {
     "name": "stdout",
     "output_type": "stream",
     "text": [
      "{'page_label': '3', 'file_name': 'The_7th_Sense_For_Data-Driven_Decision_Mastery_Paper_V2.pdf', 'file_path': '../src/The_7th_Sense_For_Data-Driven_Decision_Mastery_Paper_V2.pdf', 'file_type': 'application/pdf', 'file_size': 682557, 'creation_date': '2024-11-05', 'last_modified_date': '2024-10-30'}\n"
     ]
    }
   ],
   "source": [
    "for x in response.source_nodes:\n",
    "    print(x.metadata)"
   ]
  },
  {
   "cell_type": "code",
   "execution_count": 88,
   "metadata": {},
   "outputs": [],
   "source": [
    "from typing import List\n",
    "from llama_index.core.vector_stores import FilterCondition\n",
    "from llama_index.core.tools import FunctionTool\n",
    "\n",
    "\n",
    "def vector_query(\n",
    "    query: str, \n",
    "    page_numbers: List[str]\n",
    ") -> str:\n",
    "    \"\"\"Perform a vector search over an index.\n",
    "    \n",
    "    query (str): the string query to be embedded.\n",
    "    page_numbers (List[str]): Filter by set of pages. Leave BLANK if we want to perform a vector search\n",
    "        over all pages. Otherwise, filter by the set of specified pages.\n",
    "    \n",
    "    \"\"\"\n",
    "\n",
    "    metadata_dicts = [\n",
    "        {\"key\": \"page_label\", \"value\": p} for p in page_numbers\n",
    "    ]\n",
    "    \n",
    "    query_engine = vector_index.as_query_engine(\n",
    "        similarity_top_k=2,\n",
    "        filters=MetadataFilters.from_dicts(\n",
    "            metadata_dicts,\n",
    "            condition=FilterCondition.OR\n",
    "        )\n",
    "    )\n",
    "    response = query_engine.query(query)\n",
    "    return response\n",
    "    \n",
    "\n",
    "vector_query_tool = FunctionTool.from_defaults(\n",
    "    name=\"vector_tool\",\n",
    "    fn=vector_query\n",
    ")"
   ]
  },
  {
   "cell_type": "code",
   "execution_count": 90,
   "metadata": {},
   "outputs": [
    {
     "name": "stdout",
     "output_type": "stream",
     "text": [
      "=== Calling Function ===\n",
      "Calling function: vector_tool with args: {\"query\": \"report\", \"page_numbers\": [\"1\"]}\n",
      "=== Function Output ===\n",
      "The project described in the context automates the manual data analytics pipeline, transforming it into a seamless, AI-powered process designed to revolutionize decision-making and drive strategic innovation. By connecting to a client’s database, it automates data preprocessing, cleaning, and imputation, ensuring accurate data types through sophisticated feature-template similarity calculations. The system generates a comprehensive abstracted text file, detailing metadata, feature descriptions, missing values, and statistical summaries, alongside advanced analyses such as RFM, customer behavior clustering, and churn prediction. Leveraging cutting-edge generative AI with retrieval-augmented generation (RAG) and few-shot prompting, the project converts text files into embeddings, indexed in a vector database for insightful, similarity-based content retrieval. This allows decision-makers to quickly access vital insights, interpret complex data, and make informed decisions, ultimately driving business success. By providing a fast, accurate, and thorough analysis, the project empowers decision-makers to stay ahead of trends, transforming how data is used in strategic planning, and setting a new global standard in the competitive business world.\n",
      "The project described in the context automates the manual data analytics pipeline, transforming it into a seamless, AI-powered process designed to revolutionize decision-making and drive strategic innovation. By connecting to a client’s database, it automates data preprocessing, cleaning, and imputation, ensuring accurate data types through sophisticated feature-template similarity calculations. The system generates a comprehensive abstracted text file, detailing metadata, feature descriptions, missing values, and statistical summaries, alongside advanced analyses such as RFM, customer behavior clustering, and churn prediction. Leveraging cutting-edge generative AI with retrieval-augmented generation (RAG) and few-shot prompting, the project converts text files into embeddings, indexed in a vector database for insightful, similarity-based content retrieval. This allows decision-makers to quickly access vital insights, interpret complex data, and make informed decisions, ultimately driving business success. By providing a fast, accurate, and thorough analysis, the project empowers decision-makers to stay ahead of trends, transforming how data is used in strategic planning, and setting a new global standard in the competitive business world.\n"
     ]
    }
   ],
   "source": [
    "from llama_index.llms.openai import OpenAI\n",
    "\n",
    "llm = OpenAI(model='gpt-4o-mini', temperature=0)\n",
    "response = llm.predict_and_call(\n",
    "    [vector_query_tool],\n",
    "    \"Tell me the report of page numbers 1\",\n",
    "    verbose=True\n",
    ")\n",
    "print(str(response))"
   ]
  },
  {
   "cell_type": "code",
   "execution_count": 55,
   "metadata": {},
   "outputs": [
    {
     "name": "stdout",
     "output_type": "stream",
     "text": [
      "{'page_label': '1', 'file_name': 'The_7th_Sense_For_Data-Driven_Decision_Mastery_Paper_V2.pdf', 'file_path': '../src/The_7th_Sense_For_Data-Driven_Decision_Mastery_Paper_V2.pdf', 'file_type': 'application/pdf', 'file_size': 682557, 'creation_date': '2024-11-05', 'last_modified_date': '2024-10-30'}\n",
      "{'page_label': '1', 'file_name': 'The_7th_Sense_For_Data-Driven_Decision_Mastery_Paper_V2.pdf', 'file_path': '../src/The_7th_Sense_For_Data-Driven_Decision_Mastery_Paper_V2.pdf', 'file_type': 'application/pdf', 'file_size': 682557, 'creation_date': '2024-11-05', 'last_modified_date': '2024-10-30'}\n"
     ]
    }
   ],
   "source": [
    "for n in response.source_nodes:\n",
    "    print(n.metadata)"
   ]
  },
  {
   "cell_type": "markdown",
   "metadata": {},
   "source": [
    "### Adding Summary Tool"
   ]
  },
  {
   "cell_type": "code",
   "execution_count": 91,
   "metadata": {},
   "outputs": [],
   "source": [
    "from llama_index.core import SummaryIndex\n",
    "from llama_index.core.tools import QueryEngineTool\n",
    "\n",
    "summary_index = SummaryIndex(nodes)\n",
    "summary_query_engine = summary_index.as_query_engine(\n",
    "    response_mode=\"tree_summarize\",\n",
    "    use_async=True\n",
    ")\n",
    "summary_tool = QueryEngineTool.from_defaults(\n",
    "    query_engine=summary_query_engine,\n",
    "    description=(\n",
    "        \"Useful for summarization questions related to the Given Document\"\n",
    "    )\n",
    ")"
   ]
  },
  {
   "cell_type": "code",
   "execution_count": 75,
   "metadata": {},
   "outputs": [
    {
     "name": "stdout",
     "output_type": "stream",
     "text": [
      "=== Calling Function ===\n",
      "Calling function: query_engine_tool with args: {\"input\": \"give the summary?\"}\n",
      "=== Function Output ===\n",
      "The project described in the provided context focuses on automating the data analytics pipeline using advanced AI techniques to enhance decision-making processes. It involves connecting to client databases, automating data preprocessing, generating detailed abstracts of the data, and utilizing generative AI for content retrieval and analysis. The system also includes a question-answering chatbox for interactive clarification and refinement. By combining the Analytic Agent with Large Language Models, the project aims to provide comprehensive insights and reports tailored to specific business needs, ultimately empowering decision-makers with faster, more accurate, and more actionable data-driven insights for strategic planning and implementation in the retail industry.\n"
     ]
    }
   ],
   "source": [
    "response = llm.predict_and_call(\n",
    "    [vector_query_tool, summary_tool], \n",
    "    \"give the summary?\", \n",
    "    verbose=True\n",
    ")"
   ]
  },
  {
   "cell_type": "code",
   "execution_count": 76,
   "metadata": {},
   "outputs": [
    {
     "name": "stdout",
     "output_type": "stream",
     "text": [
      "{'page_label': '1', 'file_name': 'The_7th_Sense_For_Data-Driven_Decision_Mastery_Paper_V2.pdf', 'file_path': '../src/The_7th_Sense_For_Data-Driven_Decision_Mastery_Paper_V2.pdf', 'file_type': 'application/pdf', 'file_size': 682557, 'creation_date': '2024-11-05', 'last_modified_date': '2024-10-30'}\n",
      "{'page_label': '1', 'file_name': 'The_7th_Sense_For_Data-Driven_Decision_Mastery_Paper_V2.pdf', 'file_path': '../src/The_7th_Sense_For_Data-Driven_Decision_Mastery_Paper_V2.pdf', 'file_type': 'application/pdf', 'file_size': 682557, 'creation_date': '2024-11-05', 'last_modified_date': '2024-10-30'}\n",
      "{'page_label': '2', 'file_name': 'The_7th_Sense_For_Data-Driven_Decision_Mastery_Paper_V2.pdf', 'file_path': '../src/The_7th_Sense_For_Data-Driven_Decision_Mastery_Paper_V2.pdf', 'file_type': 'application/pdf', 'file_size': 682557, 'creation_date': '2024-11-05', 'last_modified_date': '2024-10-30'}\n",
      "{'page_label': '2', 'file_name': 'The_7th_Sense_For_Data-Driven_Decision_Mastery_Paper_V2.pdf', 'file_path': '../src/The_7th_Sense_For_Data-Driven_Decision_Mastery_Paper_V2.pdf', 'file_type': 'application/pdf', 'file_size': 682557, 'creation_date': '2024-11-05', 'last_modified_date': '2024-10-30'}\n",
      "{'page_label': '3', 'file_name': 'The_7th_Sense_For_Data-Driven_Decision_Mastery_Paper_V2.pdf', 'file_path': '../src/The_7th_Sense_For_Data-Driven_Decision_Mastery_Paper_V2.pdf', 'file_type': 'application/pdf', 'file_size': 682557, 'creation_date': '2024-11-05', 'last_modified_date': '2024-10-30'}\n",
      "{'page_label': '4', 'file_name': 'The_7th_Sense_For_Data-Driven_Decision_Mastery_Paper_V2.pdf', 'file_path': '../src/The_7th_Sense_For_Data-Driven_Decision_Mastery_Paper_V2.pdf', 'file_type': 'application/pdf', 'file_size': 682557, 'creation_date': '2024-11-05', 'last_modified_date': '2024-10-30'}\n",
      "{'page_label': '5', 'file_name': 'The_7th_Sense_For_Data-Driven_Decision_Mastery_Paper_V2.pdf', 'file_path': '../src/The_7th_Sense_For_Data-Driven_Decision_Mastery_Paper_V2.pdf', 'file_type': 'application/pdf', 'file_size': 682557, 'creation_date': '2024-11-05', 'last_modified_date': '2024-10-30'}\n",
      "{'page_label': '6', 'file_name': 'The_7th_Sense_For_Data-Driven_Decision_Mastery_Paper_V2.pdf', 'file_path': '../src/The_7th_Sense_For_Data-Driven_Decision_Mastery_Paper_V2.pdf', 'file_type': 'application/pdf', 'file_size': 682557, 'creation_date': '2024-11-05', 'last_modified_date': '2024-10-30'}\n",
      "{'page_label': '7', 'file_name': 'The_7th_Sense_For_Data-Driven_Decision_Mastery_Paper_V2.pdf', 'file_path': '../src/The_7th_Sense_For_Data-Driven_Decision_Mastery_Paper_V2.pdf', 'file_type': 'application/pdf', 'file_size': 682557, 'creation_date': '2024-11-05', 'last_modified_date': '2024-10-30'}\n"
     ]
    }
   ],
   "source": [
    "for n in response.source_nodes:\n",
    "    print(n.metadata)"
   ]
  },
  {
   "cell_type": "code",
   "execution_count": 94,
   "metadata": {},
   "outputs": [
    {
     "name": "stdout",
     "output_type": "stream",
     "text": [
      "=== Calling Function ===\n",
      "Calling function: vector_tool with args: {\"query\": \"details\", \"page_numbers\": [\"5\"]}\n",
      "=== Function Output ===\n",
      "The dataset has undergone transformations to ensure data integrity and consistency, including identifying data types, correcting inconsistencies, and imputing missing values. Each feature in the dataset has been described meticulously, detailing its role, relevance, and distribution, along with statistical summaries like minimum, maximum, mean, median, and quantiles. Exploratory data analysis has been conducted to uncover patterns, trends, and anomalies, supported by visualizations such as histograms, box plots, and scatter plots to enhance understanding of variable distribution and relationships.\n"
     ]
    }
   ],
   "source": [
    "from llama_index.llms.openai import OpenAI\n",
    "\n",
    "llm = OpenAI(model='gpt-4o-mini', temperature=0)\n",
    "response = llm.predict_and_call(\n",
    "    [vector_query_tool, summary_tool], \n",
    "    \"give the details of page no 5 ?\", \n",
    "    verbose=True\n",
    ")"
   ]
  },
  {
   "cell_type": "code",
   "execution_count": 95,
   "metadata": {},
   "outputs": [
    {
     "name": "stdout",
     "output_type": "stream",
     "text": [
      "The dataset has undergone transformations to ensure data integrity and consistency, including identifying data types, correcting inconsistencies, and imputing missing values. Each feature in the dataset has been described meticulously, detailing its role, relevance, and distribution, along with statistical summaries like minimum, maximum, mean, median, and quantiles. Exploratory data analysis has been conducted to uncover patterns, trends, and anomalies, supported by visualizations such as histograms, box plots, and scatter plots to enhance understanding of variable distribution and relationships.\n"
     ]
    }
   ],
   "source": [
    "print(str(response))"
   ]
  }
 ],
 "metadata": {
  "kernelspec": {
   "display_name": "generativeai",
   "language": "python",
   "name": "python3"
  },
  "language_info": {
   "codemirror_mode": {
    "name": "ipython",
    "version": 3
   },
   "file_extension": ".py",
   "mimetype": "text/x-python",
   "name": "python",
   "nbconvert_exporter": "python",
   "pygments_lexer": "ipython3",
   "version": "3.11.10"
  }
 },
 "nbformat": 4,
 "nbformat_minor": 2
}
