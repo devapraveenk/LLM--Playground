{
 "cells": [
  {
   "cell_type": "code",
   "execution_count": 2,
   "metadata": {},
   "outputs": [
    {
     "name": "stdout",
     "output_type": "stream",
     "text": [
      "(88970, 44)\n",
      "['product_id', 'product_name', 'product_url', 'size', 'net_weight', 'purity', 'supplier_wastage', 'regular_wastage', 'premium_wastage', 'description', 'metal_type', 'availability', 'style', 'sub_style', 'delivery_timeline', 'gross_weight', 'cz_stone_weight', 'solitaire_stone_weight', 'color_stone_weight', 'moissanite_weight', 'moti_weight', 'kundan_weight', 'rudraksh_weight', 'diamond_weight', 'labour_charge', 'brand_or_factory_name', 'supplier_name', 'tunch', 'no_of_pieces', 'no_of_stone_pieces', 'diamond_quality', 'diamond_size', 'color', 'vendor_id', 'vendor_sku', 'global_sku', 'stone_approach', 'curated_status_flag', 'active_status_flag', 'featured_product', 'variant_price_base', 'variant_price_sub', 'category_name', 'sub_category_name']\n"
     ]
    },
    {
     "name": "stderr",
     "output_type": "stream",
     "text": [
      "/var/folders/pq/bmw3qp553sq2x9k4vmz_v7rr0000gn/T/ipykernel_24854/4278171981.py:3: DtypeWarning: Columns (14) have mixed types. Specify dtype option on import or set low_memory=False.\n",
      "  df = pd.read_csv(\"../products.csv\")\n"
     ]
    }
   ],
   "source": [
    "import pandas as pd\n",
    "\n",
    "df = pd.read_csv(\"../products.csv\")\n",
    "print(df.shape)\n",
    "print(df.columns.tolist())"
   ]
  },
  {
   "cell_type": "code",
   "execution_count": 1,
   "metadata": {},
   "outputs": [],
   "source": [
    "from langchain_community.utilities import SQLDatabase\n",
    "from sqlalchemy import create_engine\n",
    "\n",
    "engine = create_engine(\"sqlite:///products.db\")\n",
    "# df.to_sql(\"products\", engine, index=False)"
   ]
  },
  {
   "cell_type": "code",
   "execution_count": 106,
   "metadata": {},
   "outputs": [
    {
     "name": "stdout",
     "output_type": "stream",
     "text": [
      "sqlite\n",
      "['products']\n"
     ]
    }
   ],
   "source": [
    "db = SQLDatabase(engine=engine)\n",
    "print(db.dialect)\n",
    "print(db.get_usable_table_names())"
   ]
  },
  {
   "cell_type": "code",
   "execution_count": 112,
   "metadata": {},
   "outputs": [],
   "source": [
    "from langchain_openai import ChatOpenAI\n",
    "\n",
    "llm = ChatOpenAI(model=\"gpt-4o-mini\")"
   ]
  },
  {
   "cell_type": "code",
   "execution_count": 113,
   "metadata": {},
   "outputs": [],
   "source": [
    "from langchain_community.agent_toolkits import create_sql_agent\n",
    "\n",
    "agent_executor = create_sql_agent(llm, db=db, agent_type=\"openai-tools\", verbose=True)"
   ]
  },
  {
   "cell_type": "code",
   "execution_count": 115,
   "metadata": {},
   "outputs": [
    {
     "name": "stdout",
     "output_type": "stream",
     "text": [
      "\n",
      "\n",
      "\u001b[1m> Entering new SQL Agent Executor chain...\u001b[0m\n",
      "\u001b[32;1m\u001b[1;3m\n",
      "Invoking: `sql_db_list_tables` with `{}`\n",
      "\n",
      "\n",
      "\u001b[0m\u001b[38;5;200m\u001b[1;3mproducts\u001b[0m\u001b[32;1m\u001b[1;3m\n",
      "Invoking: `sql_db_schema` with `{'table_names': 'products'}`\n",
      "\n",
      "\n",
      "\u001b[0m\u001b[33;1m\u001b[1;3m\n",
      "CREATE TABLE products (\n",
      "\tproduct_id TEXT, \n",
      "\tproduct_name TEXT, \n",
      "\tproduct_url TEXT, \n",
      "\tsize TEXT, \n",
      "\tnet_weight FLOAT, \n",
      "\tpurity TEXT, \n",
      "\tsupplier_wastage FLOAT, \n",
      "\tregular_wastage FLOAT, \n",
      "\tpremium_wastage FLOAT, \n",
      "\tdescription FLOAT, \n",
      "\tmetal_type BIGINT, \n",
      "\tavailability TEXT, \n",
      "\tstyle FLOAT, \n",
      "\tsub_style FLOAT, \n",
      "\tdelivery_timeline TEXT, \n",
      "\tgross_weight FLOAT, \n",
      "\tcz_stone_weight FLOAT, \n",
      "\tsolitaire_stone_weight FLOAT, \n",
      "\tcolor_stone_weight FLOAT, \n",
      "\tmoissanite_weight FLOAT, \n",
      "\tmoti_weight FLOAT, \n",
      "\tkundan_weight FLOAT, \n",
      "\trudraksh_weight FLOAT, \n",
      "\tdiamond_weight FLOAT, \n",
      "\tlabour_charge FLOAT, \n",
      "\tbrand_or_factory_name FLOAT, \n",
      "\tsupplier_name TEXT, \n",
      "\ttunch FLOAT, \n",
      "\tno_of_pieces TEXT, \n",
      "\tno_of_stone_pieces FLOAT, \n",
      "\tdiamond_quality FLOAT, \n",
      "\tdiamond_size FLOAT, \n",
      "\tcolor TEXT, \n",
      "\tvendor_id FLOAT, \n",
      "\tvendor_sku TEXT, \n",
      "\tglobal_sku TEXT, \n",
      "\tstone_approach FLOAT, \n",
      "\tcurated_status_flag BIGINT, \n",
      "\tactive_status_flag FLOAT, \n",
      "\tfeatured_product BIGINT, \n",
      "\tvariant_price_base FLOAT, \n",
      "\tvariant_price_sub FLOAT, \n",
      "\tcategory_name TEXT, \n",
      "\tsub_category_name TEXT\n",
      ")\n",
      "\n",
      "/*\n",
      "3 rows from products table:\n",
      "product_id\tproduct_name\tproduct_url\tsize\tnet_weight\tpurity\tsupplier_wastage\tregular_wastage\tpremium_wastage\tdescription\tmetal_type\tavailability\tstyle\tsub_style\tdelivery_timeline\tgross_weight\tcz_stone_weight\tsolitaire_stone_weight\tcolor_stone_weight\tmoissanite_weight\tmoti_weight\tkundan_weight\trudraksh_weight\tdiamond_weight\tlabour_charge\tbrand_or_factory_name\tsupplier_name\ttunch\tno_of_pieces\tno_of_stone_pieces\tdiamond_quality\tdiamond_size\tcolor\tvendor_id\tvendor_sku\tglobal_sku\tstone_approach\tcurated_status_flag\tactive_status_flag\tfeatured_product\tvariant_price_base\tvariant_price_sub\tcategory_name\tsub_category_name\n",
      "000085e6-644a-4059-96ea-3014101a3b5c\tTurkey Necklace Sets\thttps://s3.amazonaws.com/quicksales/-NRMbQhc2OZz2XqRcDZJ/products/-Nz8TXtEYodD1BSPyZxO.jpg\tNone\t34.2\t22KT\t3.0\t3.0\t3.0\tNone\t1\tMade to Order\tNone\tNone\t12\t0.0\tNone\tNone\tNone\tNone\tNone\tNone\tNone\tNone\tNone\tNone\tDurja\t92.0\tNone\tNone\tNone\tNone\tYellow Gold\t46.0\tDCH380\tTUNEAN119454\tNone\t0\tNone\t0\t0.0\t0.0\tNecklace Sets\tTurkey\n",
      "00009155-0ed5-42e9-8062-49479a6cd90d\tTurkey Necklace Sets\thttps://s3.amazonaws.com/quicksales/-NRMbQhc2OZz2XqRcDZJ/products/-Nz8TT2uh_z_hOoEp8qQ.jpg\tNone\t29.7\t22KT\t3.0\t3.0\t3.0\tNone\t1\tMade to Order\tNone\tNone\t12\t0.0\tNone\tNone\tNone\tNone\tNone\tNone\tNone\tNone\tNone\tNone\tDurja\t92.0\tNone\tNone\tNone\tNone\tYellow Gold\t46.0\tDNYK177\tTUNEAN666172\tNone\t0\tNone\t0\t0.0\t0.0\tNecklace Sets\tTurkey\n",
      "0000eaea-f42c-4588-9a14-f91db4422977\tSNCHDD-0058\thttps://s3.amazonaws.com/quicksales/-NRMbQhc2OZz2XqRcDZJ/products/-NyiZEHHVADTWDtaNGCA.jpg\t20 Inch\t80.0\t22KT\tNone\tNone\tNone\tNone\t1\tMade to Order\tNone\tNone\t12\tNone\tNone\tNone\tNone\tNone\tNone\tNone\tNone\tNone\tNone\tNone\tDDiyas\t92.0\tNone\tNone\tNone\tNone\tYellow Gold\t45.0\tSNCHDD-0058\tSOCHAN109377\tNone\t0\tNone\t0\t0.0\t0.0\tChains\tSolid Nawabi\n",
      "*/\u001b[0m\u001b[32;1m\u001b[1;3m\n",
      "Invoking: `sql_db_query_checker` with `{'query': \"SELECT product_id, product_name, product_url, size, net_weight, purity, availability FROM products WHERE category_name LIKE '%bangles%' LIMIT 10\"}`\n",
      "\n",
      "\n",
      "\u001b[0m\u001b[36;1m\u001b[1;3m```sql\n",
      "SELECT product_id, product_name, product_url, size, net_weight, purity, availability FROM products WHERE category_name LIKE '%bangles%' LIMIT 10\n",
      "```\u001b[0m\u001b[32;1m\u001b[1;3m\n",
      "Invoking: `sql_db_query` with `{'query': \"SELECT product_id, product_name, product_url, size, net_weight, purity, availability FROM products WHERE category_name LIKE '%bangles%' LIMIT 10\"}`\n",
      "\n",
      "\n",
      "\u001b[0m\u001b[36;1m\u001b[1;3m[('00071c5b-884a-45bf-87d7-af7c77b5d637', 'Turkey Bangles', 'https://s3.amazonaws.com/quicksales/-NRMbQhc2OZz2XqRcDZJ/products/-Nz8Uoocyx_-UcCCllkQ.jpg', '2.5 / 2.6', 28.2, '22KT', 'Made to Order'), ('00098e8c-7be2-489e-b108-c87f36977166', 'CNC', 'https://s3.amazonaws.com/quicksales/-NRMbQhc2OZz2XqRcDZJ/products/-NzTFFQuemnqG6DgTDRp.jpg', '2.6 Aana', 43.15, '22KT', 'Made to Order'), ('000b2f98-9f13-4fe1-8fe4-f0eef19b167c', 'Toda', 'https://s3.amazonaws.com/quicksales/-NRMbQhc2OZz2XqRcDZJ/products/-Nx2nNIdC4W5iLXqiaG-.jpg', '2.6 Aana', 27.5, '22KT', 'Made to Order'), ('000dae57-238e-43d9-9a78-566c59a79f12', 'Turkey Bangles', 'https://s3.amazonaws.com/quicksales/-NRMbQhc2OZz2XqRcDZJ/products/-Nz8Uop9lnWtOsQzNU11.jpg', '2.5 / 2.6', 32.1, '22KT', 'Made to Order'), ('000f5daa-1396-4dcc-8a82-21901cb004f8', 'Bombay Rodium', 'https://s3.amazonaws.com/quicksales/-NRMbQhc2OZz2XqRcDZJ/products/-Ny5Nf_pSiKkEOq3U-2o.jpg', '2.6 Aana', 35.8, '18KT', 'Made to Order'), ('0010912b-210a-4b29-a5f0-2bb51b68271b', 'Rodium Incut with Engraving', 'https://s3.amazonaws.com/quicksales/-NRMbQhc2OZz2XqRcDZJ/products/-O9OQuy-cAlqJrmFGOK9.jpg', '2.6 Aana', 58.83, '22KT', 'Made to Order'), ('0014b72a-7833-4ab1-b7cd-98296c8f3e63', 'E ORO', 'https://s3.amazonaws.com/quicksales/-NRMbQhc2OZz2XqRcDZJ/products/-NyiyzTd3ddrmjVQNQgw.jpg', '2.6 Aana', 55.67, '22KT', 'Made to Order'), ('001524c0-ed32-47b8-93e4-1e8a671d085c', 'Turkey Bangles', 'https://s3.amazonaws.com/quicksales/-NRMbQhc2OZz2XqRcDZJ/products/-Nz8UoYUJ3FDz3E9bP57.jpg', '2.5 / 2.6', 106.38, '22KT', 'Made to Order'), ('0018632e-933e-4ba0-b313-36e533af4548', 'CNC Joint', 'https://s3.amazonaws.com/quicksales/-NRMbQhc2OZz2XqRcDZJ/products/-NytIfKprLjMuLvtqhe0.jpg', '2.6 Aana', 57.08, '22KT', 'Made to Order'), ('00199197-b67e-4823-addb-c010076547c9', 'EZ ORO', 'https://s3.amazonaws.com/quicksales/-NRMbQhc2OZz2XqRcDZJ/products/-Nyiyyx4IKqD5AXuXw3H.jpg', '2.6 Aana', 52.71, '22KT', 'Made to Order')]\u001b[0m\u001b[32;1m\u001b[1;3mHere are some products in the category of machine bangles:\n",
      "\n",
      "1. **Turkey Bangles**\n",
      "   - ![Image](https://s3.amazonaws.com/quicksales/-NRMbQhc2OZz2XqRcDZJ/products/-Nz8Uoocyx_-UcCCllkQ.jpg)\n",
      "   - Size: 2.5 / 2.6\n",
      "   - Net Weight: 28.2g\n",
      "   - Purity: 22KT\n",
      "   - Availability: Made to Order\n",
      "\n",
      "2. **CNC**\n",
      "   - ![Image](https://s3.amazonaws.com/quicksales/-NRMbQhc2OZz2XqRcDZJ/products/-NzTFFQuemnqG6DgTDRp.jpg)\n",
      "   - Size: 2.6 Aana\n",
      "   - Net Weight: 43.15g\n",
      "   - Purity: 22KT\n",
      "   - Availability: Made to Order\n",
      "\n",
      "3. **Toda**\n",
      "   - ![Image](https://s3.amazonaws.com/quicksales/-NRMbQhc2OZz2XqRcDZJ/products/-Nx2nNIdC4W5iLXqiaG-.jpg)\n",
      "   - Size: 2.6 Aana\n",
      "   - Net Weight: 27.5g\n",
      "   - Purity: 22KT\n",
      "   - Availability: Made to Order\n",
      "\n",
      "4. **Turkey Bangles**\n",
      "   - ![Image](https://s3.amazonaws.com/quicksales/-NRMbQhc2OZz2XqRcDZJ/products/-Nz8Uop9lnWtOsQzNU11.jpg)\n",
      "   - Size: 2.5 / 2.6\n",
      "   - Net Weight: 32.1g\n",
      "   - Purity: 22KT\n",
      "   - Availability: Made to Order\n",
      "\n",
      "5. **Bombay Rodium**\n",
      "   - ![Image](https://s3.amazonaws.com/quicksales/-NRMbQhc2OZz2XqRcDZJ/products/-Ny5Nf_pSiKkEOq3U-2o.jpg)\n",
      "   - Size: 2.6 Aana\n",
      "   - Net Weight: 35.8g\n",
      "   - Purity: 18KT\n",
      "   - Availability: Made to Order\n",
      "\n",
      "6. **Rodium Incut with Engraving**\n",
      "   - ![Image](https://s3.amazonaws.com/quicksales/-NRMbQhc2OZz2XqRcDZJ/products/-O9OQuy-cAlqJrmFGOK9.jpg)\n",
      "   - Size: 2.6 Aana\n",
      "   - Net Weight: 58.83g\n",
      "   - Purity: 22KT\n",
      "   - Availability: Made to Order\n",
      "\n",
      "7. **E ORO**\n",
      "   - ![Image](https://s3.amazonaws.com/quicksales/-NRMbQhc2OZz2XqRcDZJ/products/-NyiyzTd3ddrmjVQNQgw.jpg)\n",
      "   - Size: 2.6 Aana\n",
      "   - Net Weight: 55.67g\n",
      "   - Purity: 22KT\n",
      "   - Availability: Made to Order\n",
      "\n",
      "8. **Turkey Bangles**\n",
      "   - ![Image](https://s3.amazonaws.com/quicksales/-NRMbQhc2OZz2XqRcDZJ/products/-Nz8UoYUJ3FDz3E9bP57.jpg)\n",
      "   - Size: 2.5 / 2.6\n",
      "   - Net Weight: 106.38g\n",
      "   - Purity: 22KT\n",
      "   - Availability: Made to Order\n",
      "\n",
      "9. **CNC Joint**\n",
      "   - ![Image](https://s3.amazonaws.com/quicksales/-NRMbQhc2OZz2XqRcDZJ/products/-NytIfKprLjMuLvtqhe0.jpg)\n",
      "   - Size: 2.6 Aana\n",
      "   - Net Weight: 57.08g\n",
      "   - Purity: 22KT\n",
      "   - Availability: Made to Order\n",
      "\n",
      "10. **EZ ORO**\n",
      "    - ![Image](https://s3.amazonaws.com/quicksales/-NRMbQhc2OZz2XqRcDZJ/products/-Nyiyyx4IKqD5AXuXw3H.jpg)\n",
      "    - Size: 2.6 Aana\n",
      "    - Net Weight: 52.71g\n",
      "    - Purity: 22KT\n",
      "    - Availability: Made to Order\n",
      "\n",
      "If you need more information or additional examples, let me know!\u001b[0m\n",
      "\n",
      "\u001b[1m> Finished chain.\u001b[0m\n"
     ]
    },
    {
     "data": {
      "text/plain": [
       "{'input': 'show me some products in machine bangles',\n",
       " 'output': 'Here are some products in the category of machine bangles:\\n\\n1. **Turkey Bangles**\\n   - ![Image](https://s3.amazonaws.com/quicksales/-NRMbQhc2OZz2XqRcDZJ/products/-Nz8Uoocyx_-UcCCllkQ.jpg)\\n   - Size: 2.5 / 2.6\\n   - Net Weight: 28.2g\\n   - Purity: 22KT\\n   - Availability: Made to Order\\n\\n2. **CNC**\\n   - ![Image](https://s3.amazonaws.com/quicksales/-NRMbQhc2OZz2XqRcDZJ/products/-NzTFFQuemnqG6DgTDRp.jpg)\\n   - Size: 2.6 Aana\\n   - Net Weight: 43.15g\\n   - Purity: 22KT\\n   - Availability: Made to Order\\n\\n3. **Toda**\\n   - ![Image](https://s3.amazonaws.com/quicksales/-NRMbQhc2OZz2XqRcDZJ/products/-Nx2nNIdC4W5iLXqiaG-.jpg)\\n   - Size: 2.6 Aana\\n   - Net Weight: 27.5g\\n   - Purity: 22KT\\n   - Availability: Made to Order\\n\\n4. **Turkey Bangles**\\n   - ![Image](https://s3.amazonaws.com/quicksales/-NRMbQhc2OZz2XqRcDZJ/products/-Nz8Uop9lnWtOsQzNU11.jpg)\\n   - Size: 2.5 / 2.6\\n   - Net Weight: 32.1g\\n   - Purity: 22KT\\n   - Availability: Made to Order\\n\\n5. **Bombay Rodium**\\n   - ![Image](https://s3.amazonaws.com/quicksales/-NRMbQhc2OZz2XqRcDZJ/products/-Ny5Nf_pSiKkEOq3U-2o.jpg)\\n   - Size: 2.6 Aana\\n   - Net Weight: 35.8g\\n   - Purity: 18KT\\n   - Availability: Made to Order\\n\\n6. **Rodium Incut with Engraving**\\n   - ![Image](https://s3.amazonaws.com/quicksales/-NRMbQhc2OZz2XqRcDZJ/products/-O9OQuy-cAlqJrmFGOK9.jpg)\\n   - Size: 2.6 Aana\\n   - Net Weight: 58.83g\\n   - Purity: 22KT\\n   - Availability: Made to Order\\n\\n7. **E ORO**\\n   - ![Image](https://s3.amazonaws.com/quicksales/-NRMbQhc2OZz2XqRcDZJ/products/-NyiyzTd3ddrmjVQNQgw.jpg)\\n   - Size: 2.6 Aana\\n   - Net Weight: 55.67g\\n   - Purity: 22KT\\n   - Availability: Made to Order\\n\\n8. **Turkey Bangles**\\n   - ![Image](https://s3.amazonaws.com/quicksales/-NRMbQhc2OZz2XqRcDZJ/products/-Nz8UoYUJ3FDz3E9bP57.jpg)\\n   - Size: 2.5 / 2.6\\n   - Net Weight: 106.38g\\n   - Purity: 22KT\\n   - Availability: Made to Order\\n\\n9. **CNC Joint**\\n   - ![Image](https://s3.amazonaws.com/quicksales/-NRMbQhc2OZz2XqRcDZJ/products/-NytIfKprLjMuLvtqhe0.jpg)\\n   - Size: 2.6 Aana\\n   - Net Weight: 57.08g\\n   - Purity: 22KT\\n   - Availability: Made to Order\\n\\n10. **EZ ORO**\\n    - ![Image](https://s3.amazonaws.com/quicksales/-NRMbQhc2OZz2XqRcDZJ/products/-Nyiyyx4IKqD5AXuXw3H.jpg)\\n    - Size: 2.6 Aana\\n    - Net Weight: 52.71g\\n    - Purity: 22KT\\n    - Availability: Made to Order\\n\\nIf you need more information or additional examples, let me know!'}"
      ]
     },
     "execution_count": 115,
     "metadata": {},
     "output_type": "execute_result"
    }
   ],
   "source": [
    "agent_executor.invoke({\"input\": \"show me some products in machine bangles\"})"
   ]
  },
  {
   "cell_type": "markdown",
   "metadata": {},
   "source": [
    "# Agent"
   ]
  },
  {
   "cell_type": "code",
   "execution_count": 116,
   "metadata": {},
   "outputs": [
    {
     "data": {
      "text/plain": [
       "[QuerySQLDataBaseTool(description=\"Input to this tool is a detailed and correct SQL query, output is a result from the database. If the query is not correct, an error message will be returned. If an error is returned, rewrite the query, check the query, and try again. If you encounter an issue with Unknown column 'xxxx' in 'field list', use sql_db_schema to query the correct table fields.\", db=<langchain_community.utilities.sql_database.SQLDatabase object at 0x15d1dcc90>),\n",
       " InfoSQLDatabaseTool(description='Input to this tool is a comma-separated list of tables, output is the schema and sample rows for those tables. Be sure that the tables actually exist by calling sql_db_list_tables first! Example Input: table1, table2, table3', db=<langchain_community.utilities.sql_database.SQLDatabase object at 0x15d1dcc90>),\n",
       " ListSQLDatabaseTool(db=<langchain_community.utilities.sql_database.SQLDatabase object at 0x15d1dcc90>),\n",
       " QuerySQLCheckerTool(description='Use this tool to double check if your query is correct before executing it. Always use this tool before executing a query with sql_db_query!', db=<langchain_community.utilities.sql_database.SQLDatabase object at 0x15d1dcc90>, llm=ChatOpenAI(client=<openai.resources.chat.completions.Completions object at 0x17ce50290>, async_client=<openai.resources.chat.completions.AsyncCompletions object at 0x15d4b8a10>, root_client=<openai.OpenAI object at 0x15d264d90>, root_async_client=<openai.AsyncOpenAI object at 0x15d48f090>, model_name='gpt-4o-mini', model_kwargs={}, openai_api_key=SecretStr('**********')), llm_chain=LLMChain(verbose=False, prompt=PromptTemplate(input_variables=['dialect', 'query'], input_types={}, partial_variables={}, template='\\n{query}\\nDouble check the {dialect} query above for common mistakes, including:\\n- Using NOT IN with NULL values\\n- Using UNION when UNION ALL should have been used\\n- Using BETWEEN for exclusive ranges\\n- Data type mismatch in predicates\\n- Properly quoting identifiers\\n- Using the correct number of arguments for functions\\n- Casting to the correct data type\\n- Using the proper columns for joins\\n\\nIf there are any of the above mistakes, rewrite the query. If there are no mistakes, just reproduce the original query.\\n\\nOutput the final SQL query only.\\n\\nSQL Query: '), llm=ChatOpenAI(client=<openai.resources.chat.completions.Completions object at 0x17ce50290>, async_client=<openai.resources.chat.completions.AsyncCompletions object at 0x15d4b8a10>, root_client=<openai.OpenAI object at 0x15d264d90>, root_async_client=<openai.AsyncOpenAI object at 0x15d48f090>, model_name='gpt-4o-mini', model_kwargs={}, openai_api_key=SecretStr('**********')), output_parser=StrOutputParser(), llm_kwargs={}))]"
      ]
     },
     "execution_count": 116,
     "metadata": {},
     "output_type": "execute_result"
    }
   ],
   "source": [
    "from langchain_community.agent_toolkits import SQLDatabaseToolkit\n",
    "\n",
    "toolkit = SQLDatabaseToolkit(db=db, llm=llm)\n",
    "\n",
    "tools = toolkit.get_tools()\n",
    "\n",
    "tools"
   ]
  },
  {
   "cell_type": "code",
   "execution_count": 117,
   "metadata": {},
   "outputs": [
    {
     "name": "stderr",
     "output_type": "stream",
     "text": [
      "/Users/a2024/miniforge3/envs/generativeai/lib/python3.11/site-packages/langsmith/client.py:354: LangSmithMissingAPIKeyWarning: API key must be provided when using hosted LangSmith API\n",
      "  warnings.warn(\n"
     ]
    },
    {
     "name": "stdout",
     "output_type": "stream",
     "text": [
      "================================\u001b[1m System Message \u001b[0m================================\n",
      "\n",
      "You are an agent designed to interact with a SQL database.\n",
      "Given an input question, create a syntactically correct \u001b[33;1m\u001b[1;3m{dialect}\u001b[0m query to run, then look at the results of the query and return the answer.\n",
      "Unless the user specifies a specific number of examples they wish to obtain, always limit your query to at most \u001b[33;1m\u001b[1;3m{top_k}\u001b[0m results.\n",
      "You can order the results by a relevant column to return the most interesting examples in the database.\n",
      "Never query for all the columns from a specific table, only ask for the relevant columns given the question.\n",
      "You have access to tools for interacting with the database.\n",
      "Only use the below tools. Only use the information returned by the below tools to construct your final answer.\n",
      "You MUST double check your query before executing it. If you get an error while executing a query, rewrite the query and try again.\n",
      "\n",
      "DO NOT make any DML statements (INSERT, UPDATE, DELETE, DROP etc.) to the database.\n",
      "\n",
      "To start you should ALWAYS look at the tables in the database to see what you can query.\n",
      "Do NOT skip this step.\n",
      "Then you should query the schema of the most relevant tables.\n"
     ]
    }
   ],
   "source": [
    "from langchain import hub\n",
    "\n",
    "prompt_template = hub.pull(\"langchain-ai/sql-agent-system-prompt\")\n",
    "\n",
    "assert len(prompt_template.messages) == 1\n",
    "prompt_template.messages[0].pretty_print()"
   ]
  },
  {
   "cell_type": "code",
   "execution_count": 128,
   "metadata": {},
   "outputs": [],
   "source": [
    "system_message = prompt_template.format(dialect=\"SQLite\", top_k=15)"
   ]
  },
  {
   "cell_type": "code",
   "execution_count": 129,
   "metadata": {},
   "outputs": [],
   "source": [
    "from langgraph.checkpoint.memory import MemorySaver\n",
    "\n",
    "memory = MemorySaver()"
   ]
  },
  {
   "cell_type": "code",
   "execution_count": 130,
   "metadata": {},
   "outputs": [
    {
     "data": {
      "text/plain": [
       "['Premium Baby Bangle',\n",
       " 'Hollow Nawabi Chains',\n",
       " 'Long Necklace Sets',\n",
       " 'Nail Pendant',\n",
       " 'UV Bali']"
      ]
     },
     "execution_count": 130,
     "metadata": {},
     "output_type": "execute_result"
    }
   ],
   "source": [
    "import ast\n",
    "import re\n",
    "\n",
    "\n",
    "def query_as_list(db, query):\n",
    "    res = db.run(query)\n",
    "    res = [el for sub in ast.literal_eval(res) for el in sub if el]\n",
    "    res = [re.sub(r\"\\b\\d+\\b\", \"\", string).strip() for string in res]\n",
    "    return list(set(res))\n",
    "\n",
    "\n",
    "product = query_as_list(db, \"SELECT product_name FROM products\")\n",
    "category_name = query_as_list(db, \"SELECT category_name FROM products\")\n",
    "category_name[:5]"
   ]
  },
  {
   "cell_type": "code",
   "execution_count": 131,
   "metadata": {},
   "outputs": [],
   "source": [
    "from langchain_openai import OpenAIEmbeddings\n",
    "\n",
    "embeddings = OpenAIEmbeddings(model=\"text-embedding-3-large\")"
   ]
  },
  {
   "cell_type": "code",
   "execution_count": 132,
   "metadata": {},
   "outputs": [],
   "source": [
    "from langchain_core.vectorstores import InMemoryVectorStore\n",
    "\n",
    "vector_store = InMemoryVectorStore(embeddings)"
   ]
  },
  {
   "cell_type": "code",
   "execution_count": 133,
   "metadata": {},
   "outputs": [],
   "source": [
    "from langchain.agents.agent_toolkits import create_retriever_tool\n",
    "\n",
    "_ = vector_store.add_texts(product + category_name)\n",
    "retriever = vector_store.as_retriever(search_kwargs={\"k\": 5})\n",
    "description = (\n",
    "    \"Use to look up values to filter on. Input is an approximate spelling \"\n",
    "    \"of the proper noun, output is valid proper nouns. Use the noun most \"\n",
    "    \"similar to the search.\"\n",
    ")\n",
    "retriever_tool = create_retriever_tool(\n",
    "    retriever,\n",
    "    name=\"search_proper_nouns\",\n",
    "    description=description,\n",
    ")"
   ]
  },
  {
   "cell_type": "code",
   "execution_count": 134,
   "metadata": {},
   "outputs": [],
   "source": [
    "# Add to system message\n",
    "suffix = (\n",
    "    \"If you need to filter on a proper noun like a Name, you must ALWAYS first look up \"\n",
    "    \"the filter value using the 'search_proper_nouns' tool! Do not try to \"\n",
    "    \"guess at the proper name - use this function to find similar ones.\"\n",
    "    \n",
    "\n",
    ")\n",
    "prefix = (\n",
    "        \"You are a customer service CHATBOT your name is ANTHER AI\"\n",
    "        \"using the sql tools generate the relevent answer so be consise and clear in your responses. Be polite and helpful.\"\n",
    ")\n",
    "\n",
    "system = f\"{prefix}\\n\\n{system_message}\\n\\n{suffix}\"\n",
    "\n",
    "tools.append(retriever_tool)\n",
    "\n",
    "\n",
    "# agent = create_react_agent(llm, tools, state_modifier=system)"
   ]
  },
  {
   "cell_type": "code",
   "execution_count": 135,
   "metadata": {},
   "outputs": [
    {
     "data": {
      "text/plain": [
       "\"You are a customer service CHATBOT your name is ANTHER AIusing the sql tools generate the relevent answer so be consise and clear in your responses. Be polite and helpful.\\n\\nSystem: You are an agent designed to interact with a SQL database.\\nGiven an input question, create a syntactically correct SQLite query to run, then look at the results of the query and return the answer.\\nUnless the user specifies a specific number of examples they wish to obtain, always limit your query to at most 15 results.\\nYou can order the results by a relevant column to return the most interesting examples in the database.\\nNever query for all the columns from a specific table, only ask for the relevant columns given the question.\\nYou have access to tools for interacting with the database.\\nOnly use the below tools. Only use the information returned by the below tools to construct your final answer.\\nYou MUST double check your query before executing it. If you get an error while executing a query, rewrite the query and try again.\\n\\nDO NOT make any DML statements (INSERT, UPDATE, DELETE, DROP etc.) to the database.\\n\\nTo start you should ALWAYS look at the tables in the database to see what you can query.\\nDo NOT skip this step.\\nThen you should query the schema of the most relevant tables.\\n\\nIf you need to filter on a proper noun like a Name, you must ALWAYS first look up the filter value using the 'search_proper_nouns' tool! Do not try to guess at the proper name - use this function to find similar ones.\""
      ]
     },
     "execution_count": 135,
     "metadata": {},
     "output_type": "execute_result"
    }
   ],
   "source": [
    "system"
   ]
  },
  {
   "cell_type": "code",
   "execution_count": 136,
   "metadata": {},
   "outputs": [],
   "source": [
    "from langchain_core.messages import HumanMessage\n",
    "from langgraph.prebuilt import create_react_agent\n",
    "\n",
    "agent_executor = create_react_agent(llm, tools, state_modifier=system, checkpointer=memory)\n",
    "config = {\"configurable\": {\"thread_id\": \"abc123\"}}"
   ]
  },
  {
   "cell_type": "code",
   "execution_count": 139,
   "metadata": {},
   "outputs": [
    {
     "name": "stdout",
     "output_type": "stream",
     "text": [
      "================================\u001b[1m Human Message \u001b[0m=================================\n",
      "\n",
      "show me some products in machine bangles\n",
      "==================================\u001b[1m Ai Message \u001b[0m==================================\n",
      "Tool Calls:\n",
      "  sql_db_query (call_rx8ZHa92CRSNzMbaMy9OG68q)\n",
      " Call ID: call_rx8ZHa92CRSNzMbaMy9OG68q\n",
      "  Args:\n",
      "    query: SELECT product_id, product_name, product_url, size, net_weight, purity, category_name, sub_category_name FROM products WHERE category_name = 'Machine Bangles' LIMIT 15;\n",
      "=================================\u001b[1m Tool Message \u001b[0m=================================\n",
      "Name: sql_db_query\n",
      "\n",
      "[('00098e8c-7be2-489e-b108-c87f36977166', 'CNC', 'https://s3.amazonaws.com/quicksales/-NRMbQhc2OZz2XqRcDZJ/products/-NzTFFQuemnqG6DgTDRp.jpg', '2.6 Aana', 43.15, '22KT', 'Machine Bangles', 'CNC'), ('0010912b-210a-4b29-a5f0-2bb51b68271b', 'Rodium Incut with Engraving', 'https://s3.amazonaws.com/quicksales/-NRMbQhc2OZz2XqRcDZJ/products/-O9OQuy-cAlqJrmFGOK9.jpg', '2.6 Aana', 58.83, '22KT', 'Machine Bangles', 'Rodium Incut with Engraving'), ('0014b72a-7833-4ab1-b7cd-98296c8f3e63', 'E ORO', 'https://s3.amazonaws.com/quicksales/-NRMbQhc2OZz2XqRcDZJ/products/-NyiyzTd3ddrmjVQNQgw.jpg', '2.6 Aana', 55.67, '22KT', 'Machine Bangles', 'E ORO'), ('0018632e-933e-4ba0-b313-36e533af4548', 'CNC Joint', 'https://s3.amazonaws.com/quicksales/-NRMbQhc2OZz2XqRcDZJ/products/-NytIfKprLjMuLvtqhe0.jpg', '2.6 Aana', 57.08, '22KT', 'Machine Bangles', 'Rodium Incut Joint'), ('00199197-b67e-4823-addb-c010076547c9', 'EZ ORO', 'https://s3.amazonaws.com/quicksales/-NRMbQhc2OZz2XqRcDZJ/products/-Nyiyyx4IKqD5AXuXw3H.jpg', '2.6 Aana', 52.71, '22KT', 'Machine Bangles', 'EZ ORO'), ('001c56f9-e3bf-457d-a157-ca78729cdceb', 'DZ ORO', 'https://s3.amazonaws.com/quicksales/-NRMbQhc2OZz2XqRcDZJ/products/-Nyiz-WDRDDDteh3Opkv.jpg', '2.6 Aana', 27.77, '22KT', 'Machine Bangles', 'DZ ORO'), ('001c5bbc-5a6e-49be-8be5-9c4ac7861391', 'CNC', 'https://s3.amazonaws.com/quicksales/-NRMbQhc2OZz2XqRcDZJ/products/-NzTFFbbzPfz2QEmsK0x.jpg', '2.6 Aana', 30.12, '22KT', 'Machine Bangles', 'CNC'), ('001ec0cf-b2da-46c2-813e-88dc7dce97d8', 'CNC', 'https://s3.amazonaws.com/quicksales/-NRMbQhc2OZz2XqRcDZJ/products/-NzTFFc3GqzOpc35Vryd.jpg', '2.6 Aana', 47.32, '22KT', 'Machine Bangles', 'CNC'), ('001fbfa9-1b97-4cf6-a294-4c1af87cbb6d', 'Plain Bangles', 'https://s3.amazonaws.com/quicksales/-NRMbQhc2OZz2XqRcDZJ/products/-O85sAxTj9zkKIuaixkm.jpg', '2.6', 56.18, '22KT', 'Machine Bangles', 'Plain'), ('002b1bf0-4569-450c-b87e-f6a9c315f133', 'CNC Joint', 'https://s3.amazonaws.com/quicksales/-NRMbQhc2OZz2XqRcDZJ/products/-NytIfKq8Jg9XN798N-r.jpg', '2.6 Aana', 57.43, '22KT', 'Machine Bangles', 'Rodium Incut Joint'), ('002c1a37-41d7-434a-b133-2e90036d494a', 'Full Fancy', 'https://s3.amazonaws.com/quicksales/-NRMbQhc2OZz2XqRcDZJ/products/-NzSFbME4yYBeGvCAyPb.jpg', '2.6 Aana', 47.38, '22KT', 'Machine Bangles', 'Full Fancy'), ('002c31a2-8cfa-4d88-906d-51f235a0ac59', 'Plain Bangles', 'https://s3.amazonaws.com/quicksales/-NRMbQhc2OZz2XqRcDZJ/products/-O85sAvcgYwvo3I20zxi.jpg', '2.5', 33.36, '22KT', 'Machine Bangles', 'Plain'), ('00340422-3219-4c37-b13b-8389954a6668', 'F ORO', 'https://s3.amazonaws.com/quicksales/-NRMbQhc2OZz2XqRcDZJ/products/-NyiyyV5zl3UN8fqkjJ5.jpg', '2.6 Aana', 33.15, '22KT', 'Machine Bangles', 'F ORO'), ('00398743-04ad-48ad-9a9d-3c9027764a0d', 'Full Fancy', 'https://s3.amazonaws.com/quicksales/-NRMbQhc2OZz2XqRcDZJ/products/-NzSFbMC2iSidAgzI3Sm.jpg', '2.6 Aana', 55.79, '22KT', 'Machine Bangles', 'Full Fancy'), ('003d2a99-41fa-4958-8762-af8240289a6b', 'CNC', 'https://s3.amazonaws.com/quicksales/-NRMbQhc2OZz2XqRcDZJ/products/-NzTFFC0LjFOITjhMVG_.jpg', '2.6 Aana', 46.68, '22KT', 'Machine Bangles', 'CNC')]\n",
      "==================================\u001b[1m Ai Message \u001b[0m==================================\n",
      "\n",
      "Here are some products specifically in the category of machine bangles:\n",
      "\n",
      "1. **CNC**\n",
      "   - ![Product Image](https://s3.amazonaws.com/quicksales/-NRMbQhc2OZz2XqRcDZJ/products/-NzTFFQuemnqG6DgTDRp.jpg)\n",
      "   - Size: 2.6 Aana\n",
      "   - Net Weight: 43.15 grams\n",
      "   - Purity: 22KT\n",
      "\n",
      "2. **Rodium Incut with Engraving**\n",
      "   - ![Product Image](https://s3.amazonaws.com/quicksales/-NRMbQhc2OZz2XqRcDZJ/products/-O9OQuy-cAlqJrmFGOK9.jpg)\n",
      "   - Size: 2.6 Aana\n",
      "   - Net Weight: 58.83 grams\n",
      "   - Purity: 22KT\n",
      "\n",
      "3. **E ORO**\n",
      "   - ![Product Image](https://s3.amazonaws.com/quicksales/-NRMbQhc2OZz2XqRcDZJ/products/-NyiyzTd3ddrmjVQNQgw.jpg)\n",
      "   - Size: 2.6 Aana\n",
      "   - Net Weight: 55.67 grams\n",
      "   - Purity: 22KT\n",
      "\n",
      "4. **CNC Joint**\n",
      "   - ![Product Image](https://s3.amazonaws.com/quicksales/-NRMbQhc2OZz2XqRcDZJ/products/-NytIfKprLjMuLvtqhe0.jpg)\n",
      "   - Size: 2.6 Aana\n",
      "   - Net Weight: 57.08 grams\n",
      "   - Purity: 22KT\n",
      "\n",
      "5. **EZ ORO**\n",
      "   - ![Product Image](https://s3.amazonaws.com/quicksales/-NRMbQhc2OZz2XqRcDZJ/products/-Nyiyyx4IKqD5AXuXw3H.jpg)\n",
      "   - Size: 2.6 Aana\n",
      "   - Net Weight: 52.71 grams\n",
      "   - Purity: 22KT\n",
      "\n",
      "6. **DZ ORO**\n",
      "   - ![Product Image](https://s3.amazonaws.com/quicksales/-NRMbQhc2OZz2XqRcDZJ/products/-Nyiz-WDRDDDteh3Opkv.jpg)\n",
      "   - Size: 2.6 Aana\n",
      "   - Net Weight: 27.77 grams\n",
      "   - Purity: 22KT\n",
      "\n",
      "7. **CNC**\n",
      "   - ![Product Image](https://s3.amazonaws.com/quicksales/-NRMbQhc2OZz2XqRcDZJ/products/-NzTFFbbzPfz2QEmsK0x.jpg)\n",
      "   - Size: 2.6 Aana\n",
      "   - Net Weight: 30.12 grams\n",
      "   - Purity: 22KT\n",
      "\n",
      "8. **CNC**\n",
      "   - ![Product Image](https://s3.amazonaws.com/quicksales/-NRMbQhc2OZz2XqRcDZJ/products/-NzTFFc3GqzOpc35Vryd.jpg)\n",
      "   - Size: 2.6 Aana\n",
      "   - Net Weight: 47.32 grams\n",
      "   - Purity: 22KT\n",
      "\n",
      "9. **Plain Bangles**\n",
      "   - ![Product Image](https://s3.amazonaws.com/quicksales/-NRMbQhc2OZz2XqRcDZJ/products/-O85sAxTj9zkKIuaixkm.jpg)\n",
      "   - Size: 2.6\n",
      "   - Net Weight: 56.18 grams\n",
      "   - Purity: 22KT\n",
      "\n",
      "10. **CNC Joint**\n",
      "    - ![Product Image](https://s3.amazonaws.com/quicksales/-NRMbQhc2OZz2XqRcDZJ/products/-NytIfKq8Jg9XN798N-r.jpg)\n",
      "    - Size: 2.6 Aana\n",
      "    - Net Weight: 57.43 grams\n",
      "    - Purity: 22KT\n",
      "\n",
      "11. **Full Fancy**\n",
      "    - ![Product Image](https://s3.amazonaws.com/quicksales/-NRMbQhc2OZz2XqRcDZJ/products/-NzSFbME4yYBeGvCAyPb.jpg)\n",
      "    - Size: 2.6 Aana\n",
      "    - Net Weight: 47.38 grams\n",
      "    - Purity: 22KT\n",
      "\n",
      "12. **Plain Bangles**\n",
      "    - ![Product Image](https://s3.amazonaws.com/quicksales/-NRMbQhc2OZz2XqRcDZJ/products/-O85sAvcgYwvo3I20zxi.jpg)\n",
      "    - Size: 2.5\n",
      "    - Net Weight: 33.36 grams\n",
      "    - Purity: 22KT\n",
      "\n",
      "13. **F ORO**\n",
      "    - ![Product Image](https://s3.amazonaws.com/quicksales/-NRMbQhc2OZz2XqRcDZJ/products/-NyiyyV5zl3UN8fqkjJ5.jpg)\n",
      "    - Size: 2.6 Aana\n",
      "    - Net Weight: 33.15 grams\n",
      "    - Purity: 22KT\n",
      "\n",
      "14. **Full Fancy**\n",
      "    - ![Product Image](https://s3.amazonaws.com/quicksales/-NRMbQhc2OZz2XqRcDZJ/products/-NzSFbMC2iSidAgzI3Sm.jpg)\n",
      "    - Size: 2.6 Aana\n",
      "    - Net Weight: 55.79 grams\n",
      "    - Purity: 22KT\n",
      "\n",
      "15. **CNC**\n",
      "    - ![Product Image](https://s3.amazonaws.com/quicksales/-NRMbQhc2OZz2XqRcDZJ/products/-NzTFFC0LjFOITjhMVG_.jpg)\n",
      "    - Size: 2.6 Aana\n",
      "    - Net Weight: 46.68 grams\n",
      "    - Purity: 22KT\n",
      "\n",
      "If you need more details or further assistance, feel free to ask!\n"
     ]
    }
   ],
   "source": [
    "question = \"show me some products in machine bangles\"    \n",
    "\n",
    "for step in agent_executor.stream(\n",
    "    {\"messages\": [{\"role\": \"user\", \"content\": question}]},\n",
    "    stream_mode=\"values\", config=config,\n",
    "):\n",
    "    step[\"messages\"][-1].pretty_print()"
   ]
  },
  {
   "cell_type": "code",
   "execution_count": null,
   "metadata": {},
   "outputs": [],
   "source": []
  }
 ],
 "metadata": {
  "kernelspec": {
   "display_name": "generativeai",
   "language": "python",
   "name": "python3"
  },
  "language_info": {
   "codemirror_mode": {
    "name": "ipython",
    "version": 3
   },
   "file_extension": ".py",
   "mimetype": "text/x-python",
   "name": "python",
   "nbconvert_exporter": "python",
   "pygments_lexer": "ipython3",
   "version": "3.13.1"
  }
 },
 "nbformat": 4,
 "nbformat_minor": 2
}
