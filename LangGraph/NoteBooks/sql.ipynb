{
 "cells": [
  {
   "cell_type": "code",
   "execution_count": 2,
   "metadata": {},
   "outputs": [
    {
     "data": {
      "text/plain": [
       "True"
      ]
     },
     "execution_count": 2,
     "metadata": {},
     "output_type": "execute_result"
    }
   ],
   "source": [
    "from dotenv import load_dotenv\n",
    "load_dotenv()"
   ]
  },
  {
   "cell_type": "code",
   "execution_count": 3,
   "metadata": {},
   "outputs": [
    {
     "name": "stdout",
     "output_type": "stream",
     "text": [
      "(88970, 44)\n",
      "['product_id', 'product_name', 'product_url', 'size', 'net_weight', 'purity', 'supplier_wastage', 'regular_wastage', 'premium_wastage', 'description', 'metal_type', 'availability', 'style', 'sub_style', 'delivery_timeline', 'gross_weight', 'cz_stone_weight', 'solitaire_stone_weight', 'color_stone_weight', 'moissanite_weight', 'moti_weight', 'kundan_weight', 'rudraksh_weight', 'diamond_weight', 'labour_charge', 'brand_or_factory_name', 'supplier_name', 'tunch', 'no_of_pieces', 'no_of_stone_pieces', 'diamond_quality', 'diamond_size', 'color', 'vendor_id', 'vendor_sku', 'global_sku', 'stone_approach', 'curated_status_flag', 'active_status_flag', 'featured_product', 'variant_price_base', 'variant_price_sub', 'category_name', 'sub_category_name']\n"
     ]
    },
    {
     "name": "stderr",
     "output_type": "stream",
     "text": [
      "/var/folders/pq/bmw3qp553sq2x9k4vmz_v7rr0000gn/T/ipykernel_47638/4278171981.py:3: DtypeWarning: Columns (14) have mixed types. Specify dtype option on import or set low_memory=False.\n",
      "  df = pd.read_csv(\"../products.csv\")\n"
     ]
    }
   ],
   "source": [
    "import pandas as pd\n",
    "\n",
    "df = pd.read_csv(\"../products.csv\")\n",
    "print(df.shape)\n",
    "print(df.columns.tolist())"
   ]
  },
  {
   "cell_type": "code",
   "execution_count": 7,
   "metadata": {},
   "outputs": [
    {
     "data": {
      "text/plain": [
       "88970"
      ]
     },
     "execution_count": 7,
     "metadata": {},
     "output_type": "execute_result"
    }
   ],
   "source": [
    "from langchain_community.utilities import SQLDatabase\n",
    "from sqlalchemy import create_engine\n",
    "\n",
    "engine = create_engine(\"sqlite:///products.db\")\n",
    "df.to_sql(\"products\", engine, index=False)"
   ]
  },
  {
   "cell_type": "code",
   "execution_count": 8,
   "metadata": {},
   "outputs": [
    {
     "name": "stdout",
     "output_type": "stream",
     "text": [
      "sqlite\n",
      "['products']\n"
     ]
    }
   ],
   "source": [
    "db = SQLDatabase(engine=engine)\n",
    "print(db.dialect)\n",
    "print(db.get_usable_table_names())"
   ]
  },
  {
   "cell_type": "code",
   "execution_count": 32,
   "metadata": {},
   "outputs": [],
   "source": [
    "import ast\n",
    "import re"
   ]
  },
  {
   "cell_type": "code",
   "execution_count": 33,
   "metadata": {},
   "outputs": [],
   "source": [
    "def query_as_list(db, query):\n",
    "    res = db.run(query)\n",
    "    res = [el for sub in ast.literal_eval(res) for el in sub if el]\n",
    "    res = [re.sub(r\"\\b\\d+\\b\", \"\", string).strip() for string in res]\n",
    "    return list(set(res))"
   ]
  },
  {
   "cell_type": "code",
   "execution_count": 39,
   "metadata": {},
   "outputs": [],
   "source": [
    "def query_as_list(db, query):\n",
    "    res = db.run(query)  # Run the query\n",
    "    res = [el for sub in ast.literal_eval(res) for el in sub if el]\n",
    "    res = [re.sub(r\"\\b\\d+\\b\", \"\", str(string)).strip() for string in res]\n",
    "    return list(set(res)) "
   ]
  },
  {
   "cell_type": "code",
   "execution_count": 41,
   "metadata": {},
   "outputs": [
    {
     "data": {
      "text/plain": [
       "{'products': ['',\n",
       "  'FLOAT',\n",
       "  'style',\n",
       "  'no_of_stone_pieces',\n",
       "  'purity',\n",
       "  'size',\n",
       "  'TEXT',\n",
       "  'sub_category_name',\n",
       "  'premium_wastage',\n",
       "  'description',\n",
       "  'curated_status_flag',\n",
       "  'diamond_size',\n",
       "  'sub_style',\n",
       "  'featured_product',\n",
       "  'product_id',\n",
       "  'moti_weight',\n",
       "  'diamond_quality',\n",
       "  'variant_price_sub',\n",
       "  'kundan_weight',\n",
       "  'vendor_id',\n",
       "  'supplier_wastage',\n",
       "  'color',\n",
       "  'category_name',\n",
       "  'delivery_timeline',\n",
       "  'global_sku',\n",
       "  'BIGINT',\n",
       "  'stone_approach',\n",
       "  'net_weight',\n",
       "  'variant_price_base',\n",
       "  'diamond_weight',\n",
       "  'brand_or_factory_name',\n",
       "  'no_of_pieces',\n",
       "  'product_url',\n",
       "  'color_stone_weight',\n",
       "  'tunch',\n",
       "  'cz_stone_weight',\n",
       "  'labour_charge',\n",
       "  'active_status_flag',\n",
       "  'gross_weight',\n",
       "  'solitaire_stone_weight',\n",
       "  'moissanite_weight',\n",
       "  'rudraksh_weight',\n",
       "  'supplier_name',\n",
       "  'metal_type',\n",
       "  'vendor_sku',\n",
       "  'regular_wastage',\n",
       "  'product_name',\n",
       "  'availability']}"
      ]
     },
     "execution_count": 41,
     "metadata": {},
     "output_type": "execute_result"
    }
   ],
   "source": [
    "query = \"SELECT name FROM sqlite_master WHERE type='table';\"\n",
    "tables = query_as_list(db, query)\n",
    "table_info = {}\n",
    "for table in tables:\n",
    "    query = f\"PRAGMA table_info({table});\"\n",
    "    columns = query_as_list(db, query)\n",
    "    table_info[table] = columns\n",
    "table_info"
   ]
  },
  {
   "cell_type": "code",
   "execution_count": 31,
   "metadata": {},
   "outputs": [
    {
     "data": {
      "text/plain": [
       "str"
      ]
     },
     "execution_count": 31,
     "metadata": {},
     "output_type": "execute_result"
    }
   ],
   "source": [
    "query = \"SELECT name FROM sqlite_master WHERE type='table';\"\n",
    "tables = db.run(query)\n",
    "# table_info = {}\n",
    "# for table in tables:\n",
    "#     query = f\"PRAGMA table_info({table});\"\n",
    "#     columns = db.run(query)\n",
    "#     table_info[table] = columns\n",
    "#     table_info\n",
    "type(tables)"
   ]
  },
  {
   "cell_type": "code",
   "execution_count": 26,
   "metadata": {},
   "outputs": [
    {
     "name": "stdout",
     "output_type": "stream",
     "text": [
      "[('products',)]\n"
     ]
    }
   ],
   "source": [
    "o = db.run(\"SELECT name FROM sqlite_master WHERE type='table';\")\n",
    "print(o)\n"
   ]
  },
  {
   "cell_type": "code",
   "execution_count": 20,
   "metadata": {},
   "outputs": [],
   "source": [
    "from langchain_openai import ChatOpenAI\n",
    "\n",
    "llm = ChatOpenAI(model=\"gpt-4o-mini\")"
   ]
  },
  {
   "cell_type": "code",
   "execution_count": 21,
   "metadata": {},
   "outputs": [],
   "source": [
    "from langchain_community.agent_toolkits import create_sql_agent\n",
    "\n",
    "agent_executor = create_sql_agent(llm, db=db, agent_type=\"openai-tools\", verbose=True)"
   ]
  },
  {
   "cell_type": "code",
   "execution_count": 23,
   "metadata": {},
   "outputs": [
    {
     "name": "stdout",
     "output_type": "stream",
     "text": [
      "\n",
      "\n",
      "\u001b[1m> Entering new SQL Agent Executor chain...\u001b[0m\n",
      "\u001b[32;1m\u001b[1;3m\n",
      "Invoking: `sql_db_list_tables` with `{}`\n",
      "\n",
      "\n",
      "\u001b[0m\u001b[38;5;200m\u001b[1;3mproducts\u001b[0m\u001b[32;1m\u001b[1;3m\n",
      "Invoking: `sql_db_schema` with `{'table_names': 'products'}`\n",
      "\n",
      "\n",
      "\u001b[0m\u001b[33;1m\u001b[1;3m\n",
      "CREATE TABLE products (\n",
      "\tproduct_id TEXT, \n",
      "\tproduct_name TEXT, \n",
      "\tproduct_url TEXT, \n",
      "\tsize TEXT, \n",
      "\tnet_weight FLOAT, \n",
      "\tpurity TEXT, \n",
      "\tsupplier_wastage FLOAT, \n",
      "\tregular_wastage FLOAT, \n",
      "\tpremium_wastage FLOAT, \n",
      "\tdescription FLOAT, \n",
      "\tmetal_type BIGINT, \n",
      "\tavailability TEXT, \n",
      "\tstyle FLOAT, \n",
      "\tsub_style FLOAT, \n",
      "\tdelivery_timeline TEXT, \n",
      "\tgross_weight FLOAT, \n",
      "\tcz_stone_weight FLOAT, \n",
      "\tsolitaire_stone_weight FLOAT, \n",
      "\tcolor_stone_weight FLOAT, \n",
      "\tmoissanite_weight FLOAT, \n",
      "\tmoti_weight FLOAT, \n",
      "\tkundan_weight FLOAT, \n",
      "\trudraksh_weight FLOAT, \n",
      "\tdiamond_weight FLOAT, \n",
      "\tlabour_charge FLOAT, \n",
      "\tbrand_or_factory_name FLOAT, \n",
      "\tsupplier_name TEXT, \n",
      "\ttunch FLOAT, \n",
      "\tno_of_pieces TEXT, \n",
      "\tno_of_stone_pieces FLOAT, \n",
      "\tdiamond_quality FLOAT, \n",
      "\tdiamond_size FLOAT, \n",
      "\tcolor TEXT, \n",
      "\tvendor_id FLOAT, \n",
      "\tvendor_sku TEXT, \n",
      "\tglobal_sku TEXT, \n",
      "\tstone_approach FLOAT, \n",
      "\tcurated_status_flag BIGINT, \n",
      "\tactive_status_flag FLOAT, \n",
      "\tfeatured_product BIGINT, \n",
      "\tvariant_price_base FLOAT, \n",
      "\tvariant_price_sub FLOAT, \n",
      "\tcategory_name TEXT, \n",
      "\tsub_category_name TEXT\n",
      ")\n",
      "\n",
      "/*\n",
      "3 rows from products table:\n",
      "product_id\tproduct_name\tproduct_url\tsize\tnet_weight\tpurity\tsupplier_wastage\tregular_wastage\tpremium_wastage\tdescription\tmetal_type\tavailability\tstyle\tsub_style\tdelivery_timeline\tgross_weight\tcz_stone_weight\tsolitaire_stone_weight\tcolor_stone_weight\tmoissanite_weight\tmoti_weight\tkundan_weight\trudraksh_weight\tdiamond_weight\tlabour_charge\tbrand_or_factory_name\tsupplier_name\ttunch\tno_of_pieces\tno_of_stone_pieces\tdiamond_quality\tdiamond_size\tcolor\tvendor_id\tvendor_sku\tglobal_sku\tstone_approach\tcurated_status_flag\tactive_status_flag\tfeatured_product\tvariant_price_base\tvariant_price_sub\tcategory_name\tsub_category_name\n",
      "000085e6-644a-4059-96ea-3014101a3b5c\tTurkey Necklace Sets\thttps://s3.amazonaws.com/quicksales/-NRMbQhc2OZz2XqRcDZJ/products/-Nz8TXtEYodD1BSPyZxO.jpg\tNone\t34.2\t22KT\t3.0\t3.0\t3.0\tNone\t1\tMade to Order\tNone\tNone\t12\t0.0\tNone\tNone\tNone\tNone\tNone\tNone\tNone\tNone\tNone\tNone\tDurja\t92.0\tNone\tNone\tNone\tNone\tYellow Gold\t46.0\tDCH380\tTUNEAN119454\tNone\t0\tNone\t0\t0.0\t0.0\tNecklace Sets\tTurkey\n",
      "00009155-0ed5-42e9-8062-49479a6cd90d\tTurkey Necklace Sets\thttps://s3.amazonaws.com/quicksales/-NRMbQhc2OZz2XqRcDZJ/products/-Nz8TT2uh_z_hOoEp8qQ.jpg\tNone\t29.7\t22KT\t3.0\t3.0\t3.0\tNone\t1\tMade to Order\tNone\tNone\t12\t0.0\tNone\tNone\tNone\tNone\tNone\tNone\tNone\tNone\tNone\tNone\tDurja\t92.0\tNone\tNone\tNone\tNone\tYellow Gold\t46.0\tDNYK177\tTUNEAN666172\tNone\t0\tNone\t0\t0.0\t0.0\tNecklace Sets\tTurkey\n",
      "0000eaea-f42c-4588-9a14-f91db4422977\tSNCHDD-0058\thttps://s3.amazonaws.com/quicksales/-NRMbQhc2OZz2XqRcDZJ/products/-NyiZEHHVADTWDtaNGCA.jpg\t20 Inch\t80.0\t22KT\tNone\tNone\tNone\tNone\t1\tMade to Order\tNone\tNone\t12\tNone\tNone\tNone\tNone\tNone\tNone\tNone\tNone\tNone\tNone\tNone\tDDiyas\t92.0\tNone\tNone\tNone\tNone\tYellow Gold\t45.0\tSNCHDD-0058\tSOCHAN109377\tNone\t0\tNone\t0\t0.0\t0.0\tChains\tSolid Nawabi\n",
      "*/\u001b[0m\u001b[32;1m\u001b[1;3m\n",
      "Invoking: `sql_db_query_checker` with `{'query': \"SELECT product_name FROM products WHERE category_name = 'Bangles' LIMIT 10;\"}`\n",
      "\n",
      "\n",
      "\u001b[0m\u001b[36;1m\u001b[1;3m```sql\n",
      "SELECT product_name FROM products WHERE category_name = 'Bangles' LIMIT 10;\n",
      "```\u001b[0m\u001b[32;1m\u001b[1;3m\n",
      "Invoking: `sql_db_query` with `{'query': \"SELECT product_name FROM products WHERE category_name = 'Bangles' LIMIT 10;\"}`\n",
      "\n",
      "\n",
      "\u001b[0m\u001b[36;1m\u001b[1;3m[('Turkey Bangles',), ('Turkey Bangles',), ('Turkey Bangles',), ('Turkey Bangles',), ('TAJ-1462-D',), ('OLVSBGSC-0043',), ('AVY125-1094-C',), ('BL-291',), ('SE-1796-A',), ('AVY125-1663',)]\u001b[0m\u001b[32;1m\u001b[1;3mHere are some different types of bangles available:\n",
      "\n",
      "1. Turkey Bangles\n",
      "2. TAJ-1462-D\n",
      "3. OLVSBGSC-0043\n",
      "4. AVY125-1094-C\n",
      "5. BL-291\n",
      "6. SE-1796-A\n",
      "7. AVY125-1663\n",
      "\n",
      "If you need more information or more examples, feel free to ask!\u001b[0m\n",
      "\n",
      "\u001b[1m> Finished chain.\u001b[0m\n"
     ]
    },
    {
     "data": {
      "text/plain": [
       "{'input': 'tell me some different types of bangles',\n",
       " 'output': 'Here are some different types of bangles available:\\n\\n1. Turkey Bangles\\n2. TAJ-1462-D\\n3. OLVSBGSC-0043\\n4. AVY125-1094-C\\n5. BL-291\\n6. SE-1796-A\\n7. AVY125-1663\\n\\nIf you need more information or more examples, feel free to ask!'}"
      ]
     },
     "execution_count": 23,
     "metadata": {},
     "output_type": "execute_result"
    }
   ],
   "source": [
    "agent_executor.invoke({\"input\": \"tell me some different types of bangles\"})"
   ]
  },
  {
   "cell_type": "markdown",
   "metadata": {},
   "source": [
    "# Agent"
   ]
  },
  {
   "cell_type": "code",
   "execution_count": 24,
   "metadata": {},
   "outputs": [
    {
     "data": {
      "text/plain": [
       "[QuerySQLDatabaseTool(description=\"Input to this tool is a detailed and correct SQL query, output is a result from the database. If the query is not correct, an error message will be returned. If an error is returned, rewrite the query, check the query, and try again. If you encounter an issue with Unknown column 'xxxx' in 'field list', use sql_db_schema to query the correct table fields.\", db=<langchain_community.utilities.sql_database.SQLDatabase object at 0x159254d60>),\n",
       " InfoSQLDatabaseTool(description='Input to this tool is a comma-separated list of tables, output is the schema and sample rows for those tables. Be sure that the tables actually exist by calling sql_db_list_tables first! Example Input: table1, table2, table3', db=<langchain_community.utilities.sql_database.SQLDatabase object at 0x159254d60>),\n",
       " ListSQLDatabaseTool(db=<langchain_community.utilities.sql_database.SQLDatabase object at 0x159254d60>),\n",
       " QuerySQLCheckerTool(description='Use this tool to double check if your query is correct before executing it. Always use this tool before executing a query with sql_db_query!', db=<langchain_community.utilities.sql_database.SQLDatabase object at 0x159254d60>, llm=ChatOpenAI(client=<openai.resources.chat.completions.Completions object at 0x15928ead0>, async_client=<openai.resources.chat.completions.AsyncCompletions object at 0x159292350>, root_client=<openai.OpenAI object at 0x1110c4a50>, root_async_client=<openai.AsyncOpenAI object at 0x15928ec10>, model_name='gpt-4o-mini', model_kwargs={}, openai_api_key=SecretStr('**********')), llm_chain=LLMChain(verbose=False, prompt=PromptTemplate(input_variables=['dialect', 'query'], input_types={}, partial_variables={}, template='\\n{query}\\nDouble check the {dialect} query above for common mistakes, including:\\n- Using NOT IN with NULL values\\n- Using UNION when UNION ALL should have been used\\n- Using BETWEEN for exclusive ranges\\n- Data type mismatch in predicates\\n- Properly quoting identifiers\\n- Using the correct number of arguments for functions\\n- Casting to the correct data type\\n- Using the proper columns for joins\\n\\nIf there are any of the above mistakes, rewrite the query. If there are no mistakes, just reproduce the original query.\\n\\nOutput the final SQL query only.\\n\\nSQL Query: '), llm=ChatOpenAI(client=<openai.resources.chat.completions.Completions object at 0x15928ead0>, async_client=<openai.resources.chat.completions.AsyncCompletions object at 0x159292350>, root_client=<openai.OpenAI object at 0x1110c4a50>, root_async_client=<openai.AsyncOpenAI object at 0x15928ec10>, model_name='gpt-4o-mini', model_kwargs={}, openai_api_key=SecretStr('**********')), output_parser=StrOutputParser(), llm_kwargs={}))]"
      ]
     },
     "execution_count": 24,
     "metadata": {},
     "output_type": "execute_result"
    }
   ],
   "source": [
    "from langchain_community.agent_toolkits import SQLDatabaseToolkit\n",
    "\n",
    "toolkit = SQLDatabaseToolkit(db=db, llm=llm)\n",
    "\n",
    "tools = toolkit.get_tools()\n",
    "\n",
    "tools"
   ]
  },
  {
   "cell_type": "code",
   "execution_count": 25,
   "metadata": {},
   "outputs": [
    {
     "name": "stderr",
     "output_type": "stream",
     "text": [
      "/Users/a2024/miniforge3/envs/generativeai/lib/python3.13/site-packages/langsmith/client.py:256: LangSmithMissingAPIKeyWarning: API key must be provided when using hosted LangSmith API\n",
      "  warnings.warn(\n"
     ]
    },
    {
     "name": "stdout",
     "output_type": "stream",
     "text": [
      "================================\u001b[1m System Message \u001b[0m================================\n",
      "\n",
      "You are an agent designed to interact with a SQL database.\n",
      "Given an input question, create a syntactically correct \u001b[33;1m\u001b[1;3m{dialect}\u001b[0m query to run, then look at the results of the query and return the answer.\n",
      "Unless the user specifies a specific number of examples they wish to obtain, always limit your query to at most \u001b[33;1m\u001b[1;3m{top_k}\u001b[0m results.\n",
      "You can order the results by a relevant column to return the most interesting examples in the database.\n",
      "Never query for all the columns from a specific table, only ask for the relevant columns given the question.\n",
      "You have access to tools for interacting with the database.\n",
      "Only use the below tools. Only use the information returned by the below tools to construct your final answer.\n",
      "You MUST double check your query before executing it. If you get an error while executing a query, rewrite the query and try again.\n",
      "\n",
      "DO NOT make any DML statements (INSERT, UPDATE, DELETE, DROP etc.) to the database.\n",
      "\n",
      "To start you should ALWAYS look at the tables in the database to see what you can query.\n",
      "Do NOT skip this step.\n",
      "Then you should query the schema of the most relevant tables.\n"
     ]
    }
   ],
   "source": [
    "from langchain import hub\n",
    "\n",
    "prompt_template = hub.pull(\"langchain-ai/sql-agent-system-prompt\")\n",
    "\n",
    "assert len(prompt_template.messages) == 1\n",
    "prompt_template.messages[0].pretty_print()"
   ]
  },
  {
   "cell_type": "code",
   "execution_count": 26,
   "metadata": {},
   "outputs": [],
   "source": [
    "system_message = prompt_template.format(dialect=\"SQLite\", top_k=15)"
   ]
  },
  {
   "cell_type": "code",
   "execution_count": 27,
   "metadata": {},
   "outputs": [],
   "source": [
    "from langgraph.checkpoint.memory import MemorySaver\n",
    "\n",
    "memory = MemorySaver()"
   ]
  },
  {
   "cell_type": "code",
   "execution_count": 28,
   "metadata": {},
   "outputs": [
    {
     "data": {
      "text/plain": [
       "['Stud', 'Leaf Chain', 'Premium Pipe Bali', 'Casting Bali', 'Chapela Pendant']"
      ]
     },
     "execution_count": 28,
     "metadata": {},
     "output_type": "execute_result"
    }
   ],
   "source": [
    "import ast\n",
    "import re\n",
    "\n",
    "\n",
    "def query_as_list(db, query):\n",
    "    res = db.run(query)\n",
    "    res = [el for sub in ast.literal_eval(res) for el in sub if el]\n",
    "    res = [re.sub(r\"\\b\\d+\\b\", \"\", string).strip() for string in res]\n",
    "    return list(set(res))\n",
    "\n",
    "\n",
    "product = query_as_list(db, \"SELECT product_name FROM products\")\n",
    "category_name = query_as_list(db, \"SELECT category_name FROM products\")\n",
    "category_name[:5]"
   ]
  },
  {
   "cell_type": "code",
   "execution_count": 29,
   "metadata": {},
   "outputs": [],
   "source": [
    "from langchain_openai import OpenAIEmbeddings\n",
    "\n",
    "embeddings = OpenAIEmbeddings(model=\"text-embedding-3-large\")"
   ]
  },
  {
   "cell_type": "code",
   "execution_count": 30,
   "metadata": {},
   "outputs": [],
   "source": [
    "from langchain_core.vectorstores import InMemoryVectorStore\n",
    "\n",
    "vector_store = InMemoryVectorStore(embeddings)"
   ]
  },
  {
   "cell_type": "code",
   "execution_count": 31,
   "metadata": {},
   "outputs": [],
   "source": [
    "from langchain.agents.agent_toolkits import create_retriever_tool\n",
    "\n",
    "_ = vector_store.add_texts(product + category_name)\n",
    "retriever = vector_store.as_retriever(search_kwargs={\"k\": 5})\n",
    "description = (\n",
    "    \"Use to look up values to filter on. Input is an approximate spelling \"\n",
    "    \"of the proper noun, output is valid proper nouns. Use the noun most \"\n",
    "    \"similar to the search.\"\n",
    ")\n",
    "retriever_tool = create_retriever_tool(\n",
    "    retriever,\n",
    "    name=\"search_proper_nouns\",\n",
    "    description=description,\n",
    ")"
   ]
  },
  {
   "cell_type": "code",
   "execution_count": 32,
   "metadata": {},
   "outputs": [],
   "source": [
    "# Add to system message\n",
    "suffix = (\n",
    "    \"If you need to filter on a proper noun like a Name, you must ALWAYS first look up \"\n",
    "    \"the filter value using the 'search_proper_nouns' tool! Do not try to \"\n",
    "    \"guess at the proper name - use this function to find similar ones.\"\n",
    "    \n",
    "\n",
    ")\n",
    "prefix = (\n",
    "        \"You are a customer service CHATBOT your name is ANTHER AI\"\n",
    "        \"using the sql tools generate the relevent answer so be consise and clear in your responses. Be polite and helpful.\"\n",
    ")\n",
    "\n",
    "system = f\"{prefix}\\n\\n{system_message}\\n\\n{suffix}\"\n",
    "\n",
    "tools.append(retriever_tool)\n",
    "\n",
    "\n",
    "# agent = create_react_agent(llm, tools, state_modifier=system)"
   ]
  },
  {
   "cell_type": "code",
   "execution_count": 135,
   "metadata": {},
   "outputs": [
    {
     "data": {
      "text/plain": [
       "\"You are a customer service CHATBOT your name is ANTHER AIusing the sql tools generate the relevent answer so be consise and clear in your responses. Be polite and helpful.\\n\\nSystem: You are an agent designed to interact with a SQL database.\\nGiven an input question, create a syntactically correct SQLite query to run, then look at the results of the query and return the answer.\\nUnless the user specifies a specific number of examples they wish to obtain, always limit your query to at most 15 results.\\nYou can order the results by a relevant column to return the most interesting examples in the database.\\nNever query for all the columns from a specific table, only ask for the relevant columns given the question.\\nYou have access to tools for interacting with the database.\\nOnly use the below tools. Only use the information returned by the below tools to construct your final answer.\\nYou MUST double check your query before executing it. If you get an error while executing a query, rewrite the query and try again.\\n\\nDO NOT make any DML statements (INSERT, UPDATE, DELETE, DROP etc.) to the database.\\n\\nTo start you should ALWAYS look at the tables in the database to see what you can query.\\nDo NOT skip this step.\\nThen you should query the schema of the most relevant tables.\\n\\nIf you need to filter on a proper noun like a Name, you must ALWAYS first look up the filter value using the 'search_proper_nouns' tool! Do not try to guess at the proper name - use this function to find similar ones.\""
      ]
     },
     "execution_count": 135,
     "metadata": {},
     "output_type": "execute_result"
    }
   ],
   "source": [
    "system"
   ]
  },
  {
   "cell_type": "code",
   "execution_count": 33,
   "metadata": {},
   "outputs": [],
   "source": [
    "from langchain_core.messages import HumanMessage\n",
    "from langgraph.prebuilt import create_react_agent\n",
    "\n",
    "agent_executor = create_react_agent(llm, tools, state_modifier=system, checkpointer=memory)\n",
    "config = {\"configurable\": {\"thread_id\": \"abc123\"}}"
   ]
  },
  {
   "cell_type": "code",
   "execution_count": 38,
   "metadata": {},
   "outputs": [
    {
     "name": "stdout",
     "output_type": "stream",
     "text": [
      "================================\u001b[1m Human Message \u001b[0m=================================\n",
      "\n",
      "give the no of chain types and their names\n",
      "==================================\u001b[1m Ai Message \u001b[0m==================================\n",
      "Tool Calls:\n",
      "  sql_db_query (call_ruwfqRTOkuyCbX7u6X8JPDrV)\n",
      " Call ID: call_ruwfqRTOkuyCbX7u6X8JPDrV\n",
      "  Args:\n",
      "    query: SELECT DISTINCT category_name FROM products WHERE category_name LIKE '%chain%';\n",
      "=================================\u001b[1m Tool Message \u001b[0m=================================\n",
      "Name: sql_db_query\n",
      "\n",
      "[('Chains',), ('Handmade Chain',), ('Chains Style Cocktail',), ('Casting Chain',), ('Casting Chain Sets',), ('Uthappa Chain',), ('Casting Chain Pendant Sets',), ('Ladies Chain',), ('Chain Sets',), ('Casting Ladies Chain',), ('Nawabi Chain',), ('Ladies Chains',), ('Gents Chain',), ('Leaf Chain',), ('Fancy Pipe Chain',), ('Indo Italy Chain',), ('Nice Machine Chains',), ('Casting Chain Pendant',), ('Bahubali Chains',), ('Super Hollow Chains',), ('Hollow Nawabi Chains',), ('Chain Pendant',), ('X IPL Chains',), ('Ocean Chain',), ('Chain',), ('Chain Bracelets',), ('Indo Lotus Chain',)]\n",
      "==================================\u001b[1m Ai Message \u001b[0m==================================\n",
      "\n",
      "Here are the distinct types of chains available:\n",
      "\n",
      "1. Chains\n",
      "2. Handmade Chain\n",
      "3. Chains Style Cocktail\n",
      "4. Casting Chain\n",
      "5. Casting Chain Sets\n",
      "6. Uthappa Chain\n",
      "7. Casting Chain Pendant Sets\n",
      "8. Ladies Chain\n",
      "9. Chain Sets\n",
      "10. Casting Ladies Chain\n",
      "11. Nawabi Chain\n",
      "12. Ladies Chains\n",
      "13. Gents Chain\n",
      "14. Leaf Chain\n",
      "15. Fancy Pipe Chain\n",
      "16. Indo Italy Chain\n",
      "17. Nice Machine Chains\n",
      "18. Casting Chain Pendant\n",
      "19. Bahubali Chains\n",
      "20. Super Hollow Chains\n",
      "21. Hollow Nawabi Chains\n",
      "22. Chain Pendant\n",
      "23. X IPL Chains\n",
      "24. Ocean Chain\n",
      "25. Chain\n",
      "26. Chain Bracelets\n",
      "27. Indo Lotus Chain\n",
      "\n",
      "If you need more information or have any further questions, feel free to ask!\n"
     ]
    }
   ],
   "source": [
    "question = \"give the no of chain types and their names\"    \n",
    "\n",
    "for step in agent_executor.stream(\n",
    "    {\"messages\": [{\"role\": \"user\", \"content\": question}]},\n",
    "    stream_mode=\"values\", config=config,\n",
    "):\n",
    "    step[\"messages\"][-1].pretty_print()"
   ]
  },
  {
   "cell_type": "code",
   "execution_count": null,
   "metadata": {},
   "outputs": [],
   "source": []
  }
 ],
 "metadata": {
  "kernelspec": {
   "display_name": "generativeai",
   "language": "python",
   "name": "python3"
  },
  "language_info": {
   "codemirror_mode": {
    "name": "ipython",
    "version": 3
   },
   "file_extension": ".py",
   "mimetype": "text/x-python",
   "name": "python",
   "nbconvert_exporter": "python",
   "pygments_lexer": "ipython3",
   "version": "3.13.1"
  }
 },
 "nbformat": 4,
 "nbformat_minor": 2
}
