{
 "cells": [
  {
   "cell_type": "code",
   "execution_count": null,
   "metadata": {},
   "outputs": [],
   "source": [
    "%pip install langchain\n",
    "%pip install dotenv"
   ]
  },
  {
   "cell_type": "code",
   "execution_count": 2,
   "metadata": {},
   "outputs": [
    {
     "data": {
      "text/plain": [
       "True"
      ]
     },
     "execution_count": 2,
     "metadata": {},
     "output_type": "execute_result"
    }
   ],
   "source": [
    "from dotenv import load_dotenv\n",
    "load_dotenv()"
   ]
  },
  {
   "cell_type": "code",
   "execution_count": 5,
   "metadata": {},
   "outputs": [
    {
     "name": "stdout",
     "output_type": "stream",
     "text": [
      "Note: you may need to restart the kernel to use updated packages.\n"
     ]
    }
   ],
   "source": [
    "%pip install -qU langchain-openai"
   ]
  },
  {
   "cell_type": "markdown",
   "metadata": {},
   "source": [
    "# Document Loaders"
   ]
  },
  {
   "cell_type": "markdown",
   "metadata": {},
   "source": [
    "## PDF"
   ]
  },
  {
   "cell_type": "code",
   "execution_count": 3,
   "metadata": {},
   "outputs": [
    {
     "name": "stderr",
     "output_type": "stream",
     "text": [
      "Ignoring wrong pointing object 6 0 (offset 0)\n",
      "Ignoring wrong pointing object 8 0 (offset 0)\n",
      "Ignoring wrong pointing object 10 0 (offset 0)\n",
      "Ignoring wrong pointing object 12 0 (offset 0)\n",
      "Ignoring wrong pointing object 14 0 (offset 0)\n",
      "Ignoring wrong pointing object 16 0 (offset 0)\n",
      "Ignoring wrong pointing object 18 0 (offset 0)\n",
      "Ignoring wrong pointing object 20 0 (offset 0)\n",
      "Ignoring wrong pointing object 22 0 (offset 0)\n",
      "Ignoring wrong pointing object 24 0 (offset 0)\n",
      "Ignoring wrong pointing object 26 0 (offset 0)\n",
      "Ignoring wrong pointing object 32 0 (offset 0)\n",
      "Ignoring wrong pointing object 34 0 (offset 0)\n",
      "Ignoring wrong pointing object 36 0 (offset 0)\n",
      "Ignoring wrong pointing object 38 0 (offset 0)\n",
      "Ignoring wrong pointing object 43 0 (offset 0)\n",
      "Ignoring wrong pointing object 45 0 (offset 0)\n"
     ]
    }
   ],
   "source": [
    "from langchain_community.document_loaders import PyPDFLoader\n",
    "loader = PyPDFLoader(\"../data/The_7th_Sense_For_Data-Driven_Decision_Mastery_Paper_V2.pdf\")\n",
    "pages = loader.load()"
   ]
  },
  {
   "cell_type": "code",
   "execution_count": 4,
   "metadata": {},
   "outputs": [
    {
     "data": {
      "text/plain": [
       "7"
      ]
     },
     "execution_count": 4,
     "metadata": {},
     "output_type": "execute_result"
    }
   ],
   "source": [
    "len(pages)"
   ]
  },
  {
   "cell_type": "code",
   "execution_count": 6,
   "metadata": {},
   "outputs": [
    {
     "name": "stdout",
     "output_type": "stream",
     "text": [
      "1  \n",
      "The 7th Sense For Data-Driven Decision Mastery Raja Brundha A  Assistant Professor Department of Artificial  Intelligence and Data Science,  Sri Sai Ram Engineering College, Chennai, Tamil Nadu, India. rajabrundha.ai@sairam.edu.in   \n",
      "Abubacker S  Student Department of Artificial  Intelligence and Data Science, Sri Sai Ram Engineering College, Chennai, Tamil Nadu, India. nav.abubacker@gmail.com    \n",
      "Deva Praveen K  Student Department of Artificial  Intelligence and Data Science,  Sri Sai Ram E\n"
     ]
    }
   ],
   "source": [
    "page = pages[0]\n",
    "print(page.page_content[0:500])"
   ]
  },
  {
   "cell_type": "code",
   "execution_count": 8,
   "metadata": {},
   "outputs": [
    {
     "data": {
      "text/plain": [
       "Document(metadata={'source': '../data/The_7th_Sense_For_Data-Driven_Decision_Mastery_Paper_V2.pdf', 'page': 0, 'page_label': '1'}, page_content='1  \\nThe 7th Sense For Data-Driven Decision Mastery Raja Brundha A  Assistant Professor Department of Artificial  Intelligence and Data Science,  Sri Sai Ram Engineering College, Chennai, Tamil Nadu, India. rajabrundha.ai@sairam.edu.in   \\nAbubacker S  Student Department of Artificial  Intelligence and Data Science, Sri Sai Ram Engineering College, Chennai, Tamil Nadu, India. nav.abubacker@gmail.com    \\nDeva Praveen K  Student Department of Artificial  Intelligence and Data Science,  Sri Sai Ram Engineering College, Chennai, Tamil Nadu, India. devapraveen20@gmail.com  \\n   Abstract— Our project automates the manual data analytics pipeline, transforming it into a seamless, AI-powered process designed to revolutionize decision-making and drive strategic innovation. By connecting to a client’s database, it automates data preprocessing, cleaning, and imputation, ensuring accurate data types through sophisticated feature-template similarity calculations. The system generates a comprehensive abstracted text file, detailing metadata, feature descriptions, missing values, and statistical summaries, alongside advanced analyses such as RFM, customer behavior clustering, and churn prediction. Leveraging cutting-edge generative AI with retrieval-augmented generation (RAG) and few-shot prompting, the project converts text files into embeddings, indexed in a vector database for insightful, similarity-based content retrieval. This allows decision-makers to quickly access vital insights, interpret complex data, and make informed decisions, ultimately driving business success. By providing a fast, accurate, and thorough analysis, our project empowers decision-makers to stay ahead of trends, transforming how data is used in strategic planning, and setting a new global standard in the competitive business world. Keywords—Retail Data Analytics, Retrieval augmented generation kRAG), Large Language Models (LLMs), Natural Language Processing, Few-Shot Learning, Business Intelligence, Analytics Agent, Statistical Patterns, Data-Driven Decision Marking, Retail trends , Business growth. I. INTRODUCTION In today’s data-driven world, businesses are inundated with vast amounts of data that hold the potential to unlock significant insights. However, the manual process of analyzing this data is often time-consuming, error-prone, and inefficient. As companies strive to remain competitive, the need for an automated, reliable, and intelligent data analytics system has never been more critical.  Traditional data analysis methods often require extensive human  intervention, from data cleaning and preprocessing to complex statistical analysis and visualization. These steps, while essential, can lead to inconsistencies and delays, impeding timely decision-making. The limitations of manual processes underscore the necessity for a more streamlined, automated solution that can handle large datasets with precision and speed.  Our project addresses these challenges by developing an advanced automated data analytics pipeline. This system is designed to seamlessly connect to client databases, fetch relevant data, and perform comprehensive preprocessing \\ntasks, including cleaning, imputation, and ensuring correct data types. By automating these foundational steps, the system significantly reduces the potential for human error and accelerates the overall analysis process.  Beyond preprocessing, the system also generates detailed abstracts of the data, encompassing metadata, feature descriptions, and statistical summaries. These abstracts include rigorous statistical tests to identify normal distributions, outliers, and influential points. By providing this level of detail, the system ensures that decision-makers have access to a complete and accurate picture of the data at their disposal.  One of the standout features of our project is the integration of generative AI techniques, specifically retrieval-augmented generation (RAG) and few-shot prompting. These technologies enable the system to convert abstracted data files into embeddings, which are then indexed in a vector database. This allows for efficient, similarity-based content retrieval, facilitating more insightful and actionable analysis.  In addition to its analytical capabilities, the system incorporates a question-answering chatbox that interacts with decision-makers, helping to clarify requirements and refine analysis outputs. This interactive component ensures that the analysis is not only thorough but also aligned with the specific needs and goals of the business, enhancing its relevance and utility.  By automating and enhancing the data analysis process, our project empowers decision-makers with faster, more accurate, and more comprehensive insights. This not only accelerates strategic planning and implementation but also sets a new standard for how businesses leverage data in a rapidly evolving and competitive global marketplace.Related Works  II. LITERATURE SURVEY  The evolving landscape of retail, fashion, and data analysis has seen significant advances in machine learning, large language models (LLMs), and data-driven decision-making. This literature survey examines eight key papers, each contributing uniquely to the field, ranging from retail \\nBastin A  Student Department of Artificial  Intelligence and Data Science, Sri Sai Ram Engineering College, Chennai, Tamil Nadu, India. biobastin2005@gmail.com   \\nVetri Thirumagan S  Student Department of Artificial  Intelligence and Data Science, Sri Sai Ram Engineering College, Chennai, Tamil Nadu, India. vetrithirumagans@gmail.com     ')"
      ]
     },
     "execution_count": 8,
     "metadata": {},
     "output_type": "execute_result"
    }
   ],
   "source": [
    "page"
   ]
  },
  {
   "cell_type": "code",
   "execution_count": 9,
   "metadata": {},
   "outputs": [
    {
     "data": {
      "text/plain": [
       "{'source': '../data/The_7th_Sense_For_Data-Driven_Decision_Mastery_Paper_V2.pdf',\n",
       " 'page': 0,\n",
       " 'page_label': '1'}"
      ]
     },
     "execution_count": 9,
     "metadata": {},
     "output_type": "execute_result"
    }
   ],
   "source": [
    "page.metadata"
   ]
  },
  {
   "cell_type": "code",
   "execution_count": 14,
   "metadata": {},
   "outputs": [
    {
     "name": "stdout",
     "output_type": "stream",
     "text": [
      "Note: you may need to restart the kernel to use updated packages.\n"
     ]
    }
   ],
   "source": [
    "%pip install -qU beautifulsoup4"
   ]
  },
  {
   "cell_type": "markdown",
   "metadata": {},
   "source": [
    "## WeB"
   ]
  },
  {
   "cell_type": "code",
   "execution_count": 16,
   "metadata": {},
   "outputs": [
    {
     "name": "stderr",
     "output_type": "stream",
     "text": [
      "Fetching pages:   0%|          | 0/1 [00:00<?, ?it/s]"
     ]
    },
    {
     "name": "stderr",
     "output_type": "stream",
     "text": [
      "Fetching pages: 100%|##########| 1/1 [00:00<00:00,  8.76it/s]\n"
     ]
    },
    {
     "data": {
      "text/plain": [
       "Document(metadata={'source': 'https://python.langchain.com/docs/how_to/chatbots_memory/', 'title': 'How to add memory to chatbots | 🦜️🔗 LangChain', 'description': 'A key feature of chatbots is their ability to use the content of previous conversational turns as context. This state management can take several forms, including:', 'language': 'en'}, page_content='\\n\\n\\n\\n\\nHow to add memory to chatbots | 🦜️🔗 LangChain\\n\\n\\n\\n\\n\\n\\nSkip to main contentIntegrationsAPI ReferenceMoreContributingPeopleError referenceLangSmithLangGraphLangChain HubLangChain JS/TSv0.3v0.3v0.2v0.1💬SearchIntroductionTutorialsBuild a Question Answering application over a Graph DatabaseTutorialsBuild a simple LLM application with chat models and prompt templatesBuild a ChatbotBuild a Retrieval Augmented Generation (RAG) App: Part 2Build an Extraction ChainBuild an AgentTaggingBuild a Retrieval Augmented Generation (RAG) App: Part 1Build a semantic search engineBuild a Question/Answering system over SQL dataSummarize TextHow-to guidesHow-to guidesHow to use tools in a chainHow to use a vectorstore as a retrieverHow to add memory to chatbotsHow to use example selectorsHow to add a semantic layer over graph databaseHow to invoke runnables in parallelHow to stream chat model responsesHow to add default invocation args to a RunnableHow to add retrieval to chatbotsHow to use few shot examples in chat modelsHow to do tool/function callingHow to install LangChain packagesHow to add examples to the prompt for query analysisHow to use few shot examplesHow to run custom functionsHow to use output parsers to parse an LLM response into structured formatHow to handle cases where no queries are generatedHow to route between sub-chainsHow to return structured data from a modelHow to summarize text through parallelizationHow to summarize text through iterative refinementHow to summarize text in a single LLM callHow to use toolkitsHow to add ad-hoc tool calling capability to LLMs and Chat ModelsBuild an Agent with AgentExecutor (Legacy)How to construct knowledge graphsHow to partially format prompt templatesHow to handle multiple queries when doing query analysisHow to use built-in tools and toolkitsHow to pass through arguments from one step to the nextHow to compose prompts togetherHow to handle multiple retrievers when doing query analysisHow to add values to a chain\\'s stateHow to construct filters for query analysisHow to configure runtime chain internalsHow deal with high cardinality categoricals when doing query analysisCustom Document LoaderHow to use the MultiQueryRetrieverHow to add scores to retriever resultsCachingHow to use callbacks in async environmentsHow to attach callbacks to a runnableHow to propagate callbacks  constructorHow to dispatch custom callback eventsHow to pass callbacks in at runtimeHow to split by characterHow to cache chat model responsesHow to handle rate limitsHow to init any model in one lineHow to track token usage in ChatModelsHow to add tools to chatbotsHow to split codeHow to do retrieval with contextual compressionHow to convert Runnables to ToolsHow to create custom callback handlersHow to create a custom chat model classCustom EmbeddingsHow to create a custom LLM classCustom RetrieverHow to create toolsHow to debug your LLM appsHow to load CSVsHow to load documents from a directoryHow to load HTMLHow to load JSONHow to load MarkdownHow to load Microsoft Office filesHow to load PDFsHow to load web pagesHow to create a dynamic (self-constructing) chainText embedding modelsHow to combine results from multiple retrieversHow to select examples from a LangSmith datasetHow to select examples by lengthHow to select examples by maximal marginal relevance (MMR)How to select examples by n-gram overlapHow to select examples by similarityHow to use reference examples when doing extractionHow to handle long text when doing extractionHow to use prompting alone (no tool calling) to do extractionHow to add fallbacks to a runnableHow to filter messagesHybrid SearchHow to use the LangChain indexing APIHow to inspect runnablesLangChain Expression Language CheatsheetHow to cache LLM responsesHow to track token usage for LLMsRun models locallyHow to get log probabilitiesHow to reorder retrieved results to mitigate the \"lost in the middle\" effectHow to split Markdown by HeadersHow to merge consecutive messages of the same typeHow to add message historyHow to migrate from legacy LangChain agents to LangGraphHow to retrieve using multiple vectors per documentHow to pass multimodal data directly to modelsHow to use multimodal promptsHow to create a custom Output ParserHow to use the output-fixing parserHow to parse JSON outputHow to retry when a parsing error occursHow to parse text from message objectsHow to parse XML outputHow to parse YAML outputHow to use the Parent Document RetrieverHow to use LangChain with different Pydantic versionsHow to add chat historyHow to get a RAG application to add citationsHow to do per-user retrievalHow to get your RAG application to return sourcesHow to stream results from your RAG applicationHow to split JSON dataHow to recursively split text by charactersResponse metadataHow to pass runtime secrets to runnablesHow to do \"self-querying\" retrievalHow to split text based on semantic similarityHow to chain runnablesHow to save and load LangChain objectsHow to split text by tokensHow to split HTMLHow to do question answering over CSVsHow to deal with large databases when doing SQL question-answeringHow to better prompt when doing SQL question-answeringHow to do query validation as part of SQL question-answeringHow to stream runnablesHow to stream responses from an LLMHow to use a time-weighted vector store retrieverHow to return artifacts from a toolHow to use chat models to call toolsHow to disable parallel tool callingHow to force models to call a toolHow to access the RunnableConfig from a toolHow to pass tool outputs to chat modelsHow to pass run time values to toolsHow to stream events from a toolHow to stream tool callsHow to convert tools to OpenAI FunctionsHow to handle tool errorsHow to use few-shot prompting with tool callingHow to add a human-in-the-loop for toolsHow to bind model-specific toolsHow to trim messagesHow to create and query vector storesConceptual guideAgentsArchitectureAsync programming with langchainCallbacksChat historyChat modelsDocument loadersEmbedding modelsEvaluationExample selectorsFew-shot promptingConceptual guideKey-value storesLangChain Expression Language (LCEL)MessagesMultimodalityOutput parsersPrompt TemplatesRetrieval augmented generation (RAG)RetrievalRetrieversRunnable interfaceStreamingStructured outputsTestingString-in, string-out llmsText splittersTokensTool callingToolsTracingVector storesWhy LangChain?Ecosystem🦜🛠️ LangSmith🦜🕸️ LangGraphVersionsv0.3v0.2Pydantic compatibilityMigrating from v0.0 chainsHow to migrate from v0.0 chainsMigrating from ConstitutionalChainMigrating from ConversationalChainMigrating from ConversationalRetrievalChainMigrating from LLMChainMigrating from LLMMathChainMigrating from LLMRouterChainMigrating from MapReduceDocumentsChainMigrating from MapRerankDocumentsChainMigrating from MultiPromptChainMigrating from RefineDocumentsChainMigrating from RetrievalQAMigrating from StuffDocumentsChainUpgrading to LangGraph memoryHow to migrate to LangGraph memoryHow to use BaseChatMessageHistory with LangGraphMigrating off ConversationBufferMemory or ConversationStringBufferMemoryMigrating off ConversationBufferWindowMemory or ConversationTokenBufferMemoryMigrating off ConversationSummaryMemory or ConversationSummaryBufferMemoryA Long-Term Memory AgentRelease policySecurity PolicyHow-to guidesHow to add memory to chatbotsOn this pageHow to add memory to chatbots\\nA key feature of chatbots is their ability to use the content of previous conversational turns as context. This state management can take several forms, including:\\n\\nSimply stuffing previous messages into a chat model prompt.\\nThe above, but trimming old messages to reduce the amount of distracting information the model has to deal with.\\nMore complex modifications like synthesizing summaries for long running conversations.\\n\\nWe\\'ll go into more detail on a few techniques below!\\nnoteThis how-to guide previously built a chatbot using RunnableWithMessageHistory. You can access this version of the guide in the v0.2 docs.As of the v0.3 release of LangChain, we recommend that LangChain users take advantage of LangGraph persistence to incorporate memory into new LangChain applications.If your code is already relying on RunnableWithMessageHistory or BaseChatMessageHistory, you do not need to make any changes. We do not plan on deprecating this functionality in the near future as it works for simple chat applications and any code that uses RunnableWithMessageHistory will continue to work as expected.Please see How to migrate to LangGraph Memory for more details.\\nSetup\\u200b\\nYou\\'ll need to install a few packages, and have your OpenAI API key set as an environment variable named OPENAI_API_KEY:\\n%pip install --upgrade --quiet langchain langchain-openai langgraphimport getpassimport osif not os.environ.get(\"OPENAI_API_KEY\"):    os.environ[\"OPENAI_API_KEY\"] = getpass.getpass(\"OpenAI API Key:\")\\nOpenAI API Key: ········\\nLet\\'s also set up a chat model that we\\'ll use for the below examples.\\nfrom langchain_openai import ChatOpenAImodel = ChatOpenAI(model=\"gpt-4o-mini\")API Reference:ChatOpenAI\\nMessage passing\\u200b\\nThe simplest form of memory is simply passing chat history messages into a chain. Here\\'s an example:\\nfrom langchain_core.messages import AIMessage, HumanMessage, SystemMessagefrom langchain_core.prompts import ChatPromptTemplate, MessagesPlaceholderprompt = ChatPromptTemplate.from_messages(    [        SystemMessage(            content=\"You are a helpful assistant. Answer all questions to the best of your ability.\"        ),        MessagesPlaceholder(variable_name=\"messages\"),    ])chain = prompt | modelai_msg = chain.invoke(    {        \"messages\": [            HumanMessage(                content=\"Translate from English to French: I love programming.\"            ),            AIMessage(content=\"J\\'adore la programmation.\"),            HumanMessage(content=\"What did you just say?\"),        ],    })print(ai_msg.content)API Reference:AIMessage | HumanMessage | SystemMessage | ChatPromptTemplate | MessagesPlaceholder\\nI said, \"I love programming\" in French: \"J\\'adore la programmation.\"\\nWe can see that by passing the previous conversation into a chain, it can use it as context to answer questions. This is the basic concept underpinning chatbot memory - the rest of the guide will demonstrate convenient techniques for passing or reformatting messages.\\nAutomatic history management\\u200b\\nThe previous examples pass messages to the chain (and model) explicitly. This is a completely acceptable approach, but it does require external management of new messages. LangChain also provides a way to build applications that have memory using LangGraph\\'s persistence. You can enable persistence in LangGraph applications by providing a checkpointer when compiling the graph.\\nfrom langgraph.checkpoint.memory import MemorySaverfrom langgraph.graph import START, MessagesState, StateGraphworkflow = StateGraph(state_schema=MessagesState)# Define the function that calls the modeldef call_model(state: MessagesState):    system_prompt = (        \"You are a helpful assistant. \"        \"Answer all questions to the best of your ability.\"    )    messages = [SystemMessage(content=system_prompt)] + state[\"messages\"]    response = model.invoke(messages)    return {\"messages\": response}# Define the node and edgeworkflow.add_node(\"model\", call_model)workflow.add_edge(START, \"model\")# Add simple in-memory checkpointermemory = MemorySaver()app = workflow.compile(checkpointer=memory)API Reference:MemorySaver | StateGraph\\nWe\\'ll pass the latest input to the conversation here and let LangGraph keep track of the conversation history using the checkpointer:\\napp.invoke(    {\"messages\": [HumanMessage(content=\"Translate to French: I love programming.\")]},    config={\"configurable\": {\"thread_id\": \"1\"}},)\\n{\\'messages\\': [HumanMessage(content=\\'Translate to French: I love programming.\\', additional_kwargs={}, response_metadata={}, id=\\'be5e7099-3149-4293-af49-6b36c8ccd71b\\'),  AIMessage(content=\"J\\'aime programmer.\", additional_kwargs={\\'refusal\\': None}, response_metadata={\\'token_usage\\': {\\'completion_tokens\\': 4, \\'prompt_tokens\\': 35, \\'total_tokens\\': 39, \\'completion_tokens_details\\': {\\'reasoning_tokens\\': 0}}, \\'model_name\\': \\'gpt-4o-mini-2024-07-18\\', \\'system_fingerprint\\': \\'fp_e9627b5346\\', \\'finish_reason\\': \\'stop\\', \\'logprobs\\': None}, id=\\'run-8a753d7a-b97b-4d01-a661-626be6f41b38-0\\', usage_metadata={\\'input_tokens\\': 35, \\'output_tokens\\': 4, \\'total_tokens\\': 39})]}\\napp.invoke(    {\"messages\": [HumanMessage(content=\"What did I just ask you?\")]},    config={\"configurable\": {\"thread_id\": \"1\"}},)\\n{\\'messages\\': [HumanMessage(content=\\'Translate to French: I love programming.\\', additional_kwargs={}, response_metadata={}, id=\\'be5e7099-3149-4293-af49-6b36c8ccd71b\\'),  AIMessage(content=\"J\\'aime programmer.\", additional_kwargs={\\'refusal\\': None}, response_metadata={\\'token_usage\\': {\\'completion_tokens\\': 4, \\'prompt_tokens\\': 35, \\'total_tokens\\': 39, \\'completion_tokens_details\\': {\\'reasoning_tokens\\': 0}}, \\'model_name\\': \\'gpt-4o-mini-2024-07-18\\', \\'system_fingerprint\\': \\'fp_e9627b5346\\', \\'finish_reason\\': \\'stop\\', \\'logprobs\\': None}, id=\\'run-8a753d7a-b97b-4d01-a661-626be6f41b38-0\\', usage_metadata={\\'input_tokens\\': 35, \\'output_tokens\\': 4, \\'total_tokens\\': 39}),  HumanMessage(content=\\'What did I just ask you?\\', additional_kwargs={}, response_metadata={}, id=\\'c667529b-7c41-4cc0-9326-0af47328b816\\'),  AIMessage(content=\\'You asked me to translate \"I love programming\" into French.\\', additional_kwargs={\\'refusal\\': None}, response_metadata={\\'token_usage\\': {\\'completion_tokens\\': 13, \\'prompt_tokens\\': 54, \\'total_tokens\\': 67, \\'completion_tokens_details\\': {\\'reasoning_tokens\\': 0}}, \\'model_name\\': \\'gpt-4o-mini-2024-07-18\\', \\'system_fingerprint\\': \\'fp_1bb46167f9\\', \\'finish_reason\\': \\'stop\\', \\'logprobs\\': None}, id=\\'run-134a7ea0-d3a4-4923-bd58-25e5a43f6a1f-0\\', usage_metadata={\\'input_tokens\\': 54, \\'output_tokens\\': 13, \\'total_tokens\\': 67})]}\\nModifying chat history\\u200b\\nModifying stored chat messages can help your chatbot handle a variety of situations. Here are some examples:\\nTrimming messages\\u200b\\nLLMs and chat models have limited context windows, and even if you\\'re not directly hitting limits, you may want to limit the amount of distraction the model has to deal with. One solution is trim the history messages before passing them to the model. Let\\'s use an example history with the app we declared above:\\ndemo_ephemeral_chat_history = [    HumanMessage(content=\"Hey there! I\\'m Nemo.\"),    AIMessage(content=\"Hello!\"),    HumanMessage(content=\"How are you today?\"),    AIMessage(content=\"Fine thanks!\"),]app.invoke(    {        \"messages\": demo_ephemeral_chat_history        + [HumanMessage(content=\"What\\'s my name?\")]    },    config={\"configurable\": {\"thread_id\": \"2\"}},)\\n{\\'messages\\': [HumanMessage(content=\"Hey there! I\\'m Nemo.\", additional_kwargs={}, response_metadata={}, id=\\'6b4cab70-ce18-49b0-bb06-267bde44e037\\'),  AIMessage(content=\\'Hello!\\', additional_kwargs={}, response_metadata={}, id=\\'ba3714f4-8876-440b-a651-efdcab2fcb4c\\'),  HumanMessage(content=\\'How are you today?\\', additional_kwargs={}, response_metadata={}, id=\\'08d032c0-1577-4862-a3f2-5c1b90687e21\\'),  AIMessage(content=\\'Fine thanks!\\', additional_kwargs={}, response_metadata={}, id=\\'21790e16-db05-4537-9a6b-ecad0fcec436\\'),  HumanMessage(content=\"What\\'s my name?\", additional_kwargs={}, response_metadata={}, id=\\'c933eca3-5fd8-4651-af16-20fe2d49c216\\'),  AIMessage(content=\\'Your name is Nemo.\\', additional_kwargs={\\'refusal\\': None}, response_metadata={\\'token_usage\\': {\\'completion_tokens\\': 5, \\'prompt_tokens\\': 63, \\'total_tokens\\': 68, \\'completion_tokens_details\\': {\\'reasoning_tokens\\': 0}}, \\'model_name\\': \\'gpt-4o-mini-2024-07-18\\', \\'system_fingerprint\\': \\'fp_1bb46167f9\\', \\'finish_reason\\': \\'stop\\', \\'logprobs\\': None}, id=\\'run-a0b21acc-9dbb-4fb6-a953-392020f37d88-0\\', usage_metadata={\\'input_tokens\\': 63, \\'output_tokens\\': 5, \\'total_tokens\\': 68})]}\\nWe can see the app remembers the preloaded name.\\nBut let\\'s say we have a very small context window, and we want to trim the number of messages passed to the model to only the 2 most recent ones. We can use the built in trim_messages util to trim messages based on their token count before they reach our prompt. In this case we\\'ll count each message as 1 \"token\" and keep only the last two messages:\\nfrom langchain_core.messages import trim_messagesfrom langgraph.checkpoint.memory import MemorySaverfrom langgraph.graph import START, MessagesState, StateGraph# Define trimmer# count each message as 1 \"token\" (token_counter=len) and keep only the last two messagestrimmer = trim_messages(strategy=\"last\", max_tokens=2, token_counter=len)workflow = StateGraph(state_schema=MessagesState)# Define the function that calls the modeldef call_model(state: MessagesState):    trimmed_messages = trimmer.invoke(state[\"messages\"])    system_prompt = (        \"You are a helpful assistant. \"        \"Answer all questions to the best of your ability.\"    )    messages = [SystemMessage(content=system_prompt)] + trimmed_messages    response = model.invoke(messages)    return {\"messages\": response}# Define the node and edgeworkflow.add_node(\"model\", call_model)workflow.add_edge(START, \"model\")# Add simple in-memory checkpointermemory = MemorySaver()app = workflow.compile(checkpointer=memory)API Reference:trim_messages | MemorySaver | StateGraph\\nLet\\'s call this new app and check the response\\napp.invoke(    {        \"messages\": demo_ephemeral_chat_history        + [HumanMessage(content=\"What is my name?\")]    },    config={\"configurable\": {\"thread_id\": \"3\"}},)\\n{\\'messages\\': [HumanMessage(content=\"Hey there! I\\'m Nemo.\", additional_kwargs={}, response_metadata={}, id=\\'6b4cab70-ce18-49b0-bb06-267bde44e037\\'),  AIMessage(content=\\'Hello!\\', additional_kwargs={}, response_metadata={}, id=\\'ba3714f4-8876-440b-a651-efdcab2fcb4c\\'),  HumanMessage(content=\\'How are you today?\\', additional_kwargs={}, response_metadata={}, id=\\'08d032c0-1577-4862-a3f2-5c1b90687e21\\'),  AIMessage(content=\\'Fine thanks!\\', additional_kwargs={}, response_metadata={}, id=\\'21790e16-db05-4537-9a6b-ecad0fcec436\\'),  HumanMessage(content=\\'What is my name?\\', additional_kwargs={}, response_metadata={}, id=\\'a22ab7c5-8617-4821-b3e9-a9e7dca1ff78\\'),  AIMessage(content=\"I\\'m sorry, but I don\\'t have access to personal information about you unless you share it with me. How can I assist you today?\", additional_kwargs={\\'refusal\\': None}, response_metadata={\\'token_usage\\': {\\'completion_tokens\\': 27, \\'prompt_tokens\\': 39, \\'total_tokens\\': 66, \\'completion_tokens_details\\': {\\'reasoning_tokens\\': 0}}, \\'model_name\\': \\'gpt-4o-mini-2024-07-18\\', \\'system_fingerprint\\': \\'fp_1bb46167f9\\', \\'finish_reason\\': \\'stop\\', \\'logprobs\\': None}, id=\\'run-f7b32d72-9f57-4705-be7e-43bf1c3d293b-0\\', usage_metadata={\\'input_tokens\\': 39, \\'output_tokens\\': 27, \\'total_tokens\\': 66})]}\\nWe can see that trim_messages was called and only the two most recent messages will be passed to the model. In this case, this means that the model forgot the name we gave it.\\nCheck out our how to guide on trimming messages for more.\\nSummary memory\\u200b\\nWe can use this same pattern in other ways too. For example, we could use an additional LLM call to generate a summary of the conversation before calling our app. Let\\'s recreate our chat history:\\ndemo_ephemeral_chat_history = [    HumanMessage(content=\"Hey there! I\\'m Nemo.\"),    AIMessage(content=\"Hello!\"),    HumanMessage(content=\"How are you today?\"),    AIMessage(content=\"Fine thanks!\"),]\\nAnd now, let\\'s update the model-calling function to distill previous interactions into a summary:\\nfrom langchain_core.messages import HumanMessage, RemoveMessagefrom langgraph.checkpoint.memory import MemorySaverfrom langgraph.graph import START, MessagesState, StateGraphworkflow = StateGraph(state_schema=MessagesState)# Define the function that calls the modeldef call_model(state: MessagesState):    system_prompt = (        \"You are a helpful assistant. \"        \"Answer all questions to the best of your ability. \"        \"The provided chat history includes a summary of the earlier conversation.\"    )    system_message = SystemMessage(content=system_prompt)    message_history = state[\"messages\"][:-1]  # exclude the most recent user input    # Summarize the messages if the chat history reaches a certain size    if len(message_history) >= 4:        last_human_message = state[\"messages\"][-1]        # Invoke the model to generate conversation summary        summary_prompt = (            \"Distill the above chat messages into a single summary message. \"            \"Include as many specific details as you can.\"        )        summary_message = model.invoke(            message_history + [HumanMessage(content=summary_prompt)]        )        # Delete messages that we no longer want to show up        delete_messages = [RemoveMessage(id=m.id) for m in state[\"messages\"]]        # Re-add user message        human_message = HumanMessage(content=last_human_message.content)        # Call the model with summary & response        response = model.invoke([system_message, summary_message, human_message])        message_updates = [summary_message, human_message, response] + delete_messages    else:        message_updates = model.invoke([system_message] + state[\"messages\"])    return {\"messages\": message_updates}# Define the node and edgeworkflow.add_node(\"model\", call_model)workflow.add_edge(START, \"model\")# Add simple in-memory checkpointermemory = MemorySaver()app = workflow.compile(checkpointer=memory)API Reference:HumanMessage | RemoveMessage | MemorySaver | StateGraph\\nLet\\'s see if it remembers the name we gave it:\\napp.invoke(    {        \"messages\": demo_ephemeral_chat_history        + [HumanMessage(\"What did I say my name was?\")]    },    config={\"configurable\": {\"thread_id\": \"4\"}},)\\n{\\'messages\\': [AIMessage(content=\"Nemo greeted me, and I responded positively, indicating that I\\'m doing well.\", additional_kwargs={\\'refusal\\': None}, response_metadata={\\'token_usage\\': {\\'completion_tokens\\': 16, \\'prompt_tokens\\': 60, \\'total_tokens\\': 76, \\'completion_tokens_details\\': {\\'reasoning_tokens\\': 0}}, \\'model_name\\': \\'gpt-4o-mini-2024-07-18\\', \\'system_fingerprint\\': \\'fp_1bb46167f9\\', \\'finish_reason\\': \\'stop\\', \\'logprobs\\': None}, id=\\'run-ee42f98d-907d-4bad-8f16-af2db789701d-0\\', usage_metadata={\\'input_tokens\\': 60, \\'output_tokens\\': 16, \\'total_tokens\\': 76}),  HumanMessage(content=\\'What did I say my name was?\\', additional_kwargs={}, response_metadata={}, id=\\'788555ea-5b1f-4c29-a2f2-a92f15d147be\\'),  AIMessage(content=\\'You mentioned that your name is Nemo.\\', additional_kwargs={\\'refusal\\': None}, response_metadata={\\'token_usage\\': {\\'completion_tokens\\': 8, \\'prompt_tokens\\': 67, \\'total_tokens\\': 75, \\'completion_tokens_details\\': {\\'reasoning_tokens\\': 0}}, \\'model_name\\': \\'gpt-4o-mini-2024-07-18\\', \\'system_fingerprint\\': \\'fp_1bb46167f9\\', \\'finish_reason\\': \\'stop\\', \\'logprobs\\': None}, id=\\'run-099a43bd-a284-4969-bb6f-0be486614cd8-0\\', usage_metadata={\\'input_tokens\\': 67, \\'output_tokens\\': 8, \\'total_tokens\\': 75})]}\\nNote that invoking the app again will keep accumulating the history until it reaches the specified number of messages (four in our case). At that point we will generate another summary generated from the initial summary plus new messages and so on.Edit this pageWas this page helpful?PreviousHow to use a vectorstore as a retrieverNextHow to use example selectorsSetupMessage passingAutomatic history managementModifying chat historyTrimming messagesSummary memoryCommunityTwitterGitHubOrganizationPythonJS/TSMoreHomepageBlogYouTubeCopyright © 2025 LangChain, Inc.\\n\\n')"
      ]
     },
     "execution_count": 16,
     "metadata": {},
     "output_type": "execute_result"
    }
   ],
   "source": [
    "import bs4\n",
    "from langchain_community.document_loaders import WebBaseLoader\n",
    "\n",
    "page_url = \"https://python.langchain.com/docs/how_to/chatbots_memory/\"\n",
    "\n",
    "loader = WebBaseLoader(web_paths=[page_url])\n",
    "docs = []\n",
    "async for doc in loader.alazy_load():\n",
    "    docs.append(doc)\n",
    "\n",
    "assert len(docs) == 1\n",
    "doc = docs[0]\n",
    "doc"
   ]
  },
  {
   "cell_type": "code",
   "execution_count": 17,
   "metadata": {},
   "outputs": [
    {
     "name": "stdout",
     "output_type": "stream",
     "text": [
      "{'source': 'https://python.langchain.com/docs/how_to/chatbots_memory/', 'title': 'How to add memory to chatbots | 🦜️🔗 LangChain', 'description': 'A key feature of chatbots is their ability to use the content of previous conversational turns as context. This state management can take several forms, including:', 'language': 'en'}\n",
      "\n",
      "How to add memory to chatbots | 🦜️🔗 LangChain\n",
      "\n",
      "\n",
      "\n",
      "\n",
      "\n",
      "\n",
      "Skip to main contentIntegrationsAPI ReferenceMoreContributingPeopleError referenceLangSmithLangGraphLangChain HubLangChain JS/TSv0.3v0.3v0.2v0.1💬SearchIntroductionTutorialsBuild a Question Answering application over a Graph DatabaseTutorialsBuild a simple LLM application with chat models and prompt templatesBuild a ChatbotBuild a Retrieval Augmented Generation (RAG) App: Part 2Build an Extraction ChainBuild an AgentTaggingBuild a Retrieval\n"
     ]
    }
   ],
   "source": [
    "print(f\"{doc.metadata}\\n\")\n",
    "print(doc.page_content[:500].strip())"
   ]
  },
  {
   "cell_type": "markdown",
   "metadata": {},
   "source": [
    "## YT"
   ]
  },
  {
   "cell_type": "code",
   "execution_count": 1,
   "metadata": {},
   "outputs": [
    {
     "name": "stdout",
     "output_type": "stream",
     "text": [
      "Collecting langchain-yt-dlp\n",
      "  Using cached langchain_yt_dlp-0.0.8-py3-none-any.whl.metadata (3.3 kB)\n",
      "Collecting yt-dlp (from langchain-yt-dlp)\n",
      "  Using cached yt_dlp-2025.1.15-py3-none-any.whl.metadata (172 kB)\n",
      "Requirement already satisfied: langchain in /Users/a2024/miniforge3/envs/multimodelrag/lib/python3.12/site-packages (from langchain-yt-dlp) (0.3.10)\n",
      "Requirement already satisfied: PyYAML>=5.3 in /Users/a2024/miniforge3/envs/multimodelrag/lib/python3.12/site-packages (from langchain->langchain-yt-dlp) (6.0.2)\n",
      "Requirement already satisfied: SQLAlchemy<3,>=1.4 in /Users/a2024/miniforge3/envs/multimodelrag/lib/python3.12/site-packages (from langchain->langchain-yt-dlp) (2.0.36)\n",
      "Requirement already satisfied: aiohttp<4.0.0,>=3.8.3 in /Users/a2024/miniforge3/envs/multimodelrag/lib/python3.12/site-packages (from langchain->langchain-yt-dlp) (3.11.10)\n",
      "Requirement already satisfied: langchain-core<0.4.0,>=0.3.22 in /Users/a2024/miniforge3/envs/multimodelrag/lib/python3.12/site-packages (from langchain->langchain-yt-dlp) (0.3.31)\n",
      "Requirement already satisfied: langchain-text-splitters<0.4.0,>=0.3.0 in /Users/a2024/miniforge3/envs/multimodelrag/lib/python3.12/site-packages (from langchain->langchain-yt-dlp) (0.3.2)\n",
      "Requirement already satisfied: langsmith<0.2.0,>=0.1.17 in /Users/a2024/miniforge3/envs/multimodelrag/lib/python3.12/site-packages (from langchain->langchain-yt-dlp) (0.1.147)\n",
      "Requirement already satisfied: numpy<3,>=1.26.2 in /Users/a2024/miniforge3/envs/multimodelrag/lib/python3.12/site-packages (from langchain->langchain-yt-dlp) (1.26.4)\n",
      "Requirement already satisfied: pydantic<3.0.0,>=2.7.4 in /Users/a2024/miniforge3/envs/multimodelrag/lib/python3.12/site-packages (from langchain->langchain-yt-dlp) (2.9.2)\n",
      "Requirement already satisfied: requests<3,>=2 in /Users/a2024/miniforge3/envs/multimodelrag/lib/python3.12/site-packages (from langchain->langchain-yt-dlp) (2.32.3)\n",
      "Requirement already satisfied: tenacity!=8.4.0,<10,>=8.1.0 in /Users/a2024/miniforge3/envs/multimodelrag/lib/python3.12/site-packages (from langchain->langchain-yt-dlp) (9.0.0)\n",
      "Requirement already satisfied: aiohappyeyeballs>=2.3.0 in /Users/a2024/miniforge3/envs/multimodelrag/lib/python3.12/site-packages (from aiohttp<4.0.0,>=3.8.3->langchain->langchain-yt-dlp) (2.4.4)\n",
      "Requirement already satisfied: aiosignal>=1.1.2 in /Users/a2024/miniforge3/envs/multimodelrag/lib/python3.12/site-packages (from aiohttp<4.0.0,>=3.8.3->langchain->langchain-yt-dlp) (1.3.1)\n",
      "Requirement already satisfied: attrs>=17.3.0 in /Users/a2024/miniforge3/envs/multimodelrag/lib/python3.12/site-packages (from aiohttp<4.0.0,>=3.8.3->langchain->langchain-yt-dlp) (24.2.0)\n",
      "Requirement already satisfied: frozenlist>=1.1.1 in /Users/a2024/miniforge3/envs/multimodelrag/lib/python3.12/site-packages (from aiohttp<4.0.0,>=3.8.3->langchain->langchain-yt-dlp) (1.5.0)\n",
      "Requirement already satisfied: multidict<7.0,>=4.5 in /Users/a2024/miniforge3/envs/multimodelrag/lib/python3.12/site-packages (from aiohttp<4.0.0,>=3.8.3->langchain->langchain-yt-dlp) (6.1.0)\n",
      "Requirement already satisfied: propcache>=0.2.0 in /Users/a2024/miniforge3/envs/multimodelrag/lib/python3.12/site-packages (from aiohttp<4.0.0,>=3.8.3->langchain->langchain-yt-dlp) (0.2.1)\n",
      "Requirement already satisfied: yarl<2.0,>=1.17.0 in /Users/a2024/miniforge3/envs/multimodelrag/lib/python3.12/site-packages (from aiohttp<4.0.0,>=3.8.3->langchain->langchain-yt-dlp) (1.18.3)\n",
      "Requirement already satisfied: jsonpatch<2.0,>=1.33 in /Users/a2024/miniforge3/envs/multimodelrag/lib/python3.12/site-packages (from langchain-core<0.4.0,>=0.3.22->langchain->langchain-yt-dlp) (1.33)\n",
      "Requirement already satisfied: packaging<25,>=23.2 in /Users/a2024/miniforge3/envs/multimodelrag/lib/python3.12/site-packages (from langchain-core<0.4.0,>=0.3.22->langchain->langchain-yt-dlp) (24.2)\n",
      "Requirement already satisfied: typing-extensions>=4.7 in /Users/a2024/miniforge3/envs/multimodelrag/lib/python3.12/site-packages (from langchain-core<0.4.0,>=0.3.22->langchain->langchain-yt-dlp) (4.12.2)\n",
      "Requirement already satisfied: httpx<1,>=0.23.0 in /Users/a2024/miniforge3/envs/multimodelrag/lib/python3.12/site-packages (from langsmith<0.2.0,>=0.1.17->langchain->langchain-yt-dlp) (0.27.2)\n",
      "Requirement already satisfied: orjson<4.0.0,>=3.9.14 in /Users/a2024/miniforge3/envs/multimodelrag/lib/python3.12/site-packages (from langsmith<0.2.0,>=0.1.17->langchain->langchain-yt-dlp) (3.10.12)\n",
      "Requirement already satisfied: requests-toolbelt<2.0.0,>=1.0.0 in /Users/a2024/miniforge3/envs/multimodelrag/lib/python3.12/site-packages (from langsmith<0.2.0,>=0.1.17->langchain->langchain-yt-dlp) (1.0.0)\n",
      "Requirement already satisfied: annotated-types>=0.6.0 in /Users/a2024/miniforge3/envs/multimodelrag/lib/python3.12/site-packages (from pydantic<3.0.0,>=2.7.4->langchain->langchain-yt-dlp) (0.7.0)\n",
      "Requirement already satisfied: pydantic-core==2.23.4 in /Users/a2024/miniforge3/envs/multimodelrag/lib/python3.12/site-packages (from pydantic<3.0.0,>=2.7.4->langchain->langchain-yt-dlp) (2.23.4)\n",
      "Requirement already satisfied: charset-normalizer<4,>=2 in /Users/a2024/miniforge3/envs/multimodelrag/lib/python3.12/site-packages (from requests<3,>=2->langchain->langchain-yt-dlp) (3.4.0)\n",
      "Requirement already satisfied: idna<4,>=2.5 in /Users/a2024/miniforge3/envs/multimodelrag/lib/python3.12/site-packages (from requests<3,>=2->langchain->langchain-yt-dlp) (3.10)\n",
      "Requirement already satisfied: urllib3<3,>=1.21.1 in /Users/a2024/miniforge3/envs/multimodelrag/lib/python3.12/site-packages (from requests<3,>=2->langchain->langchain-yt-dlp) (2.2.3)\n",
      "Requirement already satisfied: certifi>=2017.4.17 in /Users/a2024/miniforge3/envs/multimodelrag/lib/python3.12/site-packages (from requests<3,>=2->langchain->langchain-yt-dlp) (2024.8.30)\n",
      "Requirement already satisfied: anyio in /Users/a2024/miniforge3/envs/multimodelrag/lib/python3.12/site-packages (from httpx<1,>=0.23.0->langsmith<0.2.0,>=0.1.17->langchain->langchain-yt-dlp) (4.7.0)\n",
      "Requirement already satisfied: httpcore==1.* in /Users/a2024/miniforge3/envs/multimodelrag/lib/python3.12/site-packages (from httpx<1,>=0.23.0->langsmith<0.2.0,>=0.1.17->langchain->langchain-yt-dlp) (1.0.7)\n",
      "Requirement already satisfied: sniffio in /Users/a2024/miniforge3/envs/multimodelrag/lib/python3.12/site-packages (from httpx<1,>=0.23.0->langsmith<0.2.0,>=0.1.17->langchain->langchain-yt-dlp) (1.3.1)\n",
      "Requirement already satisfied: h11<0.15,>=0.13 in /Users/a2024/miniforge3/envs/multimodelrag/lib/python3.12/site-packages (from httpcore==1.*->httpx<1,>=0.23.0->langsmith<0.2.0,>=0.1.17->langchain->langchain-yt-dlp) (0.14.0)\n",
      "Requirement already satisfied: jsonpointer>=1.9 in /Users/a2024/miniforge3/envs/multimodelrag/lib/python3.12/site-packages (from jsonpatch<2.0,>=1.33->langchain-core<0.4.0,>=0.3.22->langchain->langchain-yt-dlp) (3.0.0)\n",
      "Using cached langchain_yt_dlp-0.0.8-py3-none-any.whl (4.8 kB)\n",
      "Using cached yt_dlp-2025.1.15-py3-none-any.whl (3.2 MB)\n",
      "Installing collected packages: yt-dlp, langchain-yt-dlp\n",
      "Successfully installed langchain-yt-dlp-0.0.8 yt-dlp-2025.1.15\n",
      "Note: you may need to restart the kernel to use updated packages.\n"
     ]
    }
   ],
   "source": [
    "%pip install langchain-yt-dlp"
   ]
  },
  {
   "cell_type": "code",
   "execution_count": 3,
   "metadata": {},
   "outputs": [],
   "source": [
    "from langchain_yt_dlp.youtube_loader import YoutubeLoaderDL\n",
    "\n",
    "# Basic transcript loading\n",
    "loader = YoutubeLoaderDL.from_youtube_url(\n",
    "    \"https://www.youtube.com/watch?v=dQw4w9WgXcQ\", add_video_info=True\n",
    ")"
   ]
  },
  {
   "cell_type": "code",
   "execution_count": 4,
   "metadata": {},
   "outputs": [],
   "source": [
    "documents = loader.load()"
   ]
  },
  {
   "cell_type": "code",
   "execution_count": 5,
   "metadata": {},
   "outputs": [
    {
     "data": {
      "text/plain": [
       "{'source': 'dQw4w9WgXcQ',\n",
       " 'title': 'Rick Astley - Never Gonna Give You Up (Official Music Video)',\n",
       " 'description': 'The official video for “Never Gonna Give You Up” by Rick Astley. \\n\\nNever: The Autobiography 📚 OUT NOW! \\nFollow this link to get your copy and listen to Rick’s ‘Never’ playlist ❤️ #RickAstleyNever\\nhttps://linktr.ee/rickastleynever\\n\\n“Never Gonna Give You Up” was a global smash on its release in July 1987, topping the charts in 25 countries including Rick’s native UK and the US Billboard Hot 100.  It also won the Brit Award for Best single in 1988. Stock Aitken and Waterman wrote and produced the track which was the lead-off single and lead track from Rick’s debut LP “Whenever You Need Somebody”.  The album was itself a UK number one and would go on to sell over 15 million copies worldwide.\\n\\nThe legendary video was directed by Simon West – who later went on to make Hollywood blockbusters such as Con Air, Lara Croft – Tomb Raider and The Expendables 2.  The video passed the 1bn YouTube views milestone on 28 July 2021.\\n\\nSubscribe to the official Rick Astley YouTube channel: https://RickAstley.lnk.to/YTSubID\\n\\nFollow Rick Astley:\\nFacebook: https://RickAstley.lnk.to/FBFollowID \\nTwitter: https://RickAstley.lnk.to/TwitterID \\nInstagram: https://RickAstley.lnk.to/InstagramID \\nWebsite: https://RickAstley.lnk.to/storeID \\nTikTok: https://RickAstley.lnk.to/TikTokID\\n\\nListen to Rick Astley:\\nSpotify: https://RickAstley.lnk.to/SpotifyID \\nApple Music: https://RickAstley.lnk.to/AppleMusicID \\nAmazon Music: https://RickAstley.lnk.to/AmazonMusicID \\nDeezer: https://RickAstley.lnk.to/DeezerID \\n\\nLyrics:\\nWe’re no strangers to love\\nYou know the rules and so do I\\nA full commitment’s what I’m thinking of\\nYou wouldn’t get this from any other guy\\n\\nI just wanna tell you how I’m feeling\\nGotta make you understand\\n\\nNever gonna give you up\\nNever gonna let you down\\nNever gonna run around and desert you\\nNever gonna make you cry\\nNever gonna say goodbye\\nNever gonna tell a lie and hurt you\\n\\nWe’ve known each other for so long\\nYour heart’s been aching but you’re too shy to say it\\nInside we both know what’s been going on\\nWe know the game and we’re gonna play it\\n\\nAnd if you ask me how I’m feeling\\nDon’t tell me you’re too blind to see\\n\\nNever gonna give you up\\nNever gonna let you down\\nNever gonna run around and desert you\\nNever gonna make you cry\\nNever gonna say goodbye\\nNever gonna tell a lie and hurt you\\n\\n#RickAstley #NeverGonnaGiveYouUp #WheneverYouNeedSomebody #OfficialMusicVideo',\n",
       " 'view_count': 1616459065,\n",
       " 'publish_date': '2009-10-25',\n",
       " 'length': 212,\n",
       " 'author': 'Rick Astley',\n",
       " 'channel_id': 'UCuAXFkgsw1L7xaCfnd5JJOw',\n",
       " 'webpage_url': 'https://www.youtube.com/watch?v=dQw4w9WgXcQ'}"
      ]
     },
     "execution_count": 5,
     "metadata": {},
     "output_type": "execute_result"
    }
   ],
   "source": [
    "documents[0].metadata"
   ]
  },
  {
   "cell_type": "markdown",
   "metadata": {},
   "source": [
    "## QnA with youtube Video"
   ]
  },
  {
   "cell_type": "code",
   "execution_count": 6,
   "metadata": {},
   "outputs": [
    {
     "name": "stdout",
     "output_type": "stream",
     "text": [
      "Note: you may need to restart the kernel to use updated packages.\n",
      "Note: you may need to restart the kernel to use updated packages.\n",
      "Note: you may need to restart the kernel to use updated packages.\n"
     ]
    }
   ],
   "source": [
    "%pip install --upgrade --quiet  yt_dlp\n",
    "%pip install --upgrade --quiet  pydub\n",
    "%pip install --upgrade --quiet  librosa"
   ]
  },
  {
   "cell_type": "code",
   "execution_count": 7,
   "metadata": {},
   "outputs": [],
   "source": [
    "from langchain_community.document_loaders.blob_loaders.youtube_audio import (\n",
    "    YoutubeAudioLoader,\n",
    ")\n",
    "from langchain_community.document_loaders.generic import GenericLoader\n",
    "from langchain_community.document_loaders.parsers.audio import (\n",
    "    OpenAIWhisperParser,\n",
    "    OpenAIWhisperParserLocal,\n",
    ")"
   ]
  },
  {
   "cell_type": "code",
   "execution_count": 8,
   "metadata": {},
   "outputs": [],
   "source": [
    "local = False"
   ]
  },
  {
   "cell_type": "code",
   "execution_count": 9,
   "metadata": {},
   "outputs": [
    {
     "name": "stdout",
     "output_type": "stream",
     "text": [
      "Note: you may need to restart the kernel to use updated packages.\n"
     ]
    }
   ],
   "source": [
    "%pip install -q transformers"
   ]
  },
  {
   "cell_type": "code",
   "execution_count": 10,
   "metadata": {},
   "outputs": [
    {
     "name": "stdout",
     "output_type": "stream",
     "text": [
      "Requirement already satisfied: pydub in /Users/a2024/miniforge3/envs/multimodelrag/lib/python3.12/site-packages (0.25.1)\n",
      "Note: you may need to restart the kernel to use updated packages.\n"
     ]
    }
   ],
   "source": [
    "%pip install pydub"
   ]
  },
  {
   "cell_type": "code",
   "execution_count": 11,
   "metadata": {},
   "outputs": [
    {
     "name": "stdout",
     "output_type": "stream",
     "text": [
      "Collecting pyaudio\n",
      "  Using cached PyAudio-0.2.14.tar.gz (47 kB)\n",
      "  Installing build dependencies ... \u001b[?25ldone\n",
      "\u001b[?25h  Getting requirements to build wheel ... \u001b[?25ldone\n",
      "\u001b[?25h  Preparing metadata (pyproject.toml) ... \u001b[?25ldone\n",
      "\u001b[?25hBuilding wheels for collected packages: pyaudio\n",
      "  Building wheel for pyaudio (pyproject.toml) ... \u001b[?25ldone\n",
      "\u001b[?25h  Created wheel for pyaudio: filename=PyAudio-0.2.14-cp312-cp312-macosx_11_0_arm64.whl size=24186 sha256=4b1c101e8bcaa7b22766386820f00ea2eb072043c8f3b2eca013ee943fc1a99f\n",
      "  Stored in directory: /Users/a2024/Library/Caches/pip/wheels/68/c7/33/c6a6b210cb5819ec5c219928c794a447742a7d86d21c0b92e6\n",
      "Successfully built pyaudio\n",
      "Installing collected packages: pyaudio\n",
      "Successfully installed pyaudio-0.2.14\n",
      "Note: you may need to restart the kernel to use updated packages.\n"
     ]
    }
   ],
   "source": [
    "%pip install pyaudio"
   ]
  },
  {
   "cell_type": "code",
   "execution_count": null,
   "metadata": {},
   "outputs": [],
   "source": [
    "# # Two Karpathy lecture videos\n",
    "# #brew install ffmpeg\n",
    "# # import pydub\n",
    "# urls = [\"https://youtube.com/shorts/uyQP4c5LXEk?si=-uQcOR5W3zdah9yL\"]\n",
    "\n",
    "# # Directory to save audio files\n",
    "# save_dir = \"../data/YouTube\"\n",
    "\n",
    "# # Transcribe the videos to text\n",
    "# if local:\n",
    "#     loader = GenericLoader(\n",
    "#         YoutubeAudioLoader(urls, save_dir), OpenAIWhisperParserLocal()\n",
    "#     )\n",
    "# else:\n",
    "#     loader = GenericLoader(YoutubeAudioLoader(urls, save_dir), OpenAIWhisperParser())\n",
    "# docs = loader.load()"
   ]
  },
  {
   "cell_type": "markdown",
   "metadata": {},
   "source": [
    "# Document Splitting"
   ]
  },
  {
   "cell_type": "code",
   "execution_count": 1,
   "metadata": {},
   "outputs": [
    {
     "name": "stdout",
     "output_type": "stream",
     "text": [
      "Note: you may need to restart the kernel to use updated packages.\n"
     ]
    }
   ],
   "source": [
    "%pip install -qU langchain-text-splitters"
   ]
  },
  {
   "cell_type": "code",
   "execution_count": 6,
   "metadata": {},
   "outputs": [],
   "source": [
    "from langchain_text_splitters import RecursiveCharacterTextSplitter, CharacterTextSplitter"
   ]
  },
  {
   "cell_type": "code",
   "execution_count": 3,
   "metadata": {},
   "outputs": [],
   "source": [
    "chunk_size =26\n",
    "chunk_overlap = 4"
   ]
  },
  {
   "cell_type": "code",
   "execution_count": 4,
   "metadata": {},
   "outputs": [],
   "source": [
    "r_splitter = RecursiveCharacterTextSplitter(\n",
    "    chunk_size=chunk_size,\n",
    "    chunk_overlap=chunk_overlap\n",
    ")"
   ]
  },
  {
   "cell_type": "code",
   "execution_count": 7,
   "metadata": {},
   "outputs": [],
   "source": [
    "c_splitter = CharacterTextSplitter(\n",
    "    chunk_size=chunk_size,\n",
    "    chunk_overlap=chunk_overlap\n",
    ")"
   ]
  },
  {
   "cell_type": "code",
   "execution_count": 8,
   "metadata": {},
   "outputs": [],
   "source": [
    "text1 = 'abcdefghijklmnopqrstuvwxyz'"
   ]
  },
  {
   "cell_type": "code",
   "execution_count": 9,
   "metadata": {},
   "outputs": [
    {
     "data": {
      "text/plain": [
       "['abcdefghijklmnopqrstuvwxyz']"
      ]
     },
     "execution_count": 9,
     "metadata": {},
     "output_type": "execute_result"
    }
   ],
   "source": [
    "r_splitter.split_text(text1)"
   ]
  },
  {
   "cell_type": "code",
   "execution_count": 12,
   "metadata": {},
   "outputs": [
    {
     "data": {
      "text/plain": [
       "['abcdefghijklmnopqrstuvwxyz']"
      ]
     },
     "execution_count": 12,
     "metadata": {},
     "output_type": "execute_result"
    }
   ],
   "source": [
    "c_splitter.split_text(text1)"
   ]
  },
  {
   "cell_type": "code",
   "execution_count": 10,
   "metadata": {},
   "outputs": [],
   "source": [
    "text2 = 'abcdefghijklmnopqrstuvwxyzabcdefg'"
   ]
  },
  {
   "cell_type": "code",
   "execution_count": 11,
   "metadata": {},
   "outputs": [
    {
     "data": {
      "text/plain": [
       "['abcdefghijklmnopqrstuvwxyz', 'wxyzabcdefg']"
      ]
     },
     "execution_count": 11,
     "metadata": {},
     "output_type": "execute_result"
    }
   ],
   "source": [
    "r_splitter.split_text(text2)"
   ]
  },
  {
   "cell_type": "code",
   "execution_count": 13,
   "metadata": {},
   "outputs": [
    {
     "data": {
      "text/plain": [
       "['abcdefghijklmnopqrstuvwxyzabcdefg']"
      ]
     },
     "execution_count": 13,
     "metadata": {},
     "output_type": "execute_result"
    }
   ],
   "source": [
    "c_splitter.split_text(text2)"
   ]
  },
  {
   "cell_type": "code",
   "execution_count": 14,
   "metadata": {},
   "outputs": [],
   "source": [
    "some_text = \"\"\"When writing documents, writers will use document structure to group content. \\\n",
    "This can convey to the reader, which idea's are related. For example, closely related ideas \\\n",
    "are in sentances. Similar ideas are in paragraphs. Paragraphs form a document. \\n\\n  \\\n",
    "Paragraphs are often delimited with a carriage return or two carriage returns. \\\n",
    "Carriage returns are the \"backslash n\" you see embedded in this string. \\\n",
    "Sentences have a period at the end, but also, have a space.\\\n",
    "and words are separated by space.\"\"\""
   ]
  },
  {
   "cell_type": "code",
   "execution_count": 15,
   "metadata": {},
   "outputs": [
    {
     "data": {
      "text/plain": [
       "496"
      ]
     },
     "execution_count": 15,
     "metadata": {},
     "output_type": "execute_result"
    }
   ],
   "source": [
    "len(some_text)"
   ]
  },
  {
   "cell_type": "code",
   "execution_count": 16,
   "metadata": {},
   "outputs": [],
   "source": [
    "c_splitter = CharacterTextSplitter(\n",
    "    chunk_size=450,\n",
    "    chunk_overlap=0,\n",
    "    separator = ' '\n",
    ")\n",
    "r_splitter = RecursiveCharacterTextSplitter(\n",
    "    chunk_size=450,\n",
    "    chunk_overlap=0, \n",
    "    separators=[\"\\n\\n\", \"\\n\", \" \", \"\"]\n",
    ")"
   ]
  },
  {
   "cell_type": "code",
   "execution_count": 17,
   "metadata": {},
   "outputs": [
    {
     "data": {
      "text/plain": [
       "['When writing documents, writers will use document structure to group content. This can convey to the reader, which idea\\'s are related. For example, closely related ideas are in sentances. Similar ideas are in paragraphs. Paragraphs form a document. \\n\\n Paragraphs are often delimited with a carriage return or two carriage returns. Carriage returns are the \"backslash n\" you see embedded in this string. Sentences have a period at the end, but also,',\n",
       " 'have a space.and words are separated by space.']"
      ]
     },
     "execution_count": 17,
     "metadata": {},
     "output_type": "execute_result"
    }
   ],
   "source": [
    "c_splitter.split_text(some_text)"
   ]
  },
  {
   "cell_type": "code",
   "execution_count": 18,
   "metadata": {},
   "outputs": [
    {
     "data": {
      "text/plain": [
       "[\"When writing documents, writers will use document structure to group content. This can convey to the reader, which idea's are related. For example, closely related ideas are in sentances. Similar ideas are in paragraphs. Paragraphs form a document.\",\n",
       " 'Paragraphs are often delimited with a carriage return or two carriage returns. Carriage returns are the \"backslash n\" you see embedded in this string. Sentences have a period at the end, but also, have a space.and words are separated by space.']"
      ]
     },
     "execution_count": 18,
     "metadata": {},
     "output_type": "execute_result"
    }
   ],
   "source": [
    "r_splitter.split_text(some_text)"
   ]
  },
  {
   "cell_type": "markdown",
   "metadata": {},
   "source": [
    "#### with Reduced chucksize"
   ]
  },
  {
   "cell_type": "code",
   "execution_count": 19,
   "metadata": {},
   "outputs": [
    {
     "name": "stderr",
     "output_type": "stream",
     "text": [
      "<>:4: SyntaxWarning: invalid escape sequence '\\.'\n",
      "<>:4: SyntaxWarning: invalid escape sequence '\\.'\n",
      "/var/folders/pq/bmw3qp553sq2x9k4vmz_v7rr0000gn/T/ipykernel_79549/158012430.py:4: SyntaxWarning: invalid escape sequence '\\.'\n",
      "  separators=[\"\\n\\n\", \"\\n\", \"\\. \", \" \", \"\"]\n"
     ]
    },
    {
     "data": {
      "text/plain": [
       "[\"When writing documents, writers will use document structure to group content. This can convey to the reader, which idea's are related. For example,\",\n",
       " 'closely related ideas are in sentances. Similar ideas are in paragraphs. Paragraphs form a document.',\n",
       " 'Paragraphs are often delimited with a carriage return or two carriage returns. Carriage returns are the \"backslash n\" you see embedded in this',\n",
       " 'string. Sentences have a period at the end, but also, have a space.and words are separated by space.']"
      ]
     },
     "execution_count": 19,
     "metadata": {},
     "output_type": "execute_result"
    }
   ],
   "source": [
    "r_splitter = RecursiveCharacterTextSplitter(\n",
    "    chunk_size=150,\n",
    "    chunk_overlap=0,\n",
    "    separators=[\"\\n\\n\", \"\\n\", \"\\.\", \" \", \"\"]\n",
    ")\n",
    "r_splitter.split_text(some_text)"
   ]
  },
  {
   "cell_type": "code",
   "execution_count": 23,
   "metadata": {},
   "outputs": [],
   "source": [
    "r_splitter = RecursiveCharacterTextSplitter(\n",
    "    chunk_size=150,\n",
    "    chunk_overlap=0,\n",
    "    separators=[\"\\n\\n\", \"\\n\", \".\", \" \", \"\"]\n",
    ")\n",
    "splits = r_splitter.split_text(some_text)"
   ]
  },
  {
   "cell_type": "code",
   "execution_count": null,
   "metadata": {},
   "outputs": [],
   "source": [
    "splits"
   ]
  },
  {
   "cell_type": "markdown",
   "metadata": {},
   "source": [
    "# Vector Store and Embeddings"
   ]
  },
  {
   "cell_type": "code",
   "execution_count": 1,
   "metadata": {},
   "outputs": [],
   "source": [
    "from langchain_openai import OpenAIEmbeddings\n",
    "\n",
    "embeddings = OpenAIEmbeddings(model=\"text-embedding-3-large\")"
   ]
  },
  {
   "cell_type": "code",
   "execution_count": 2,
   "metadata": {},
   "outputs": [],
   "source": [
    "sentence1 = \"i like dogs\"\n",
    "sentence2 = \"i like canines\"\n",
    "sentence3 = \"the weather is ugly outside\""
   ]
  },
  {
   "cell_type": "code",
   "execution_count": 3,
   "metadata": {},
   "outputs": [],
   "source": [
    "embedding1 = embeddings.embed_query(sentence1)\n",
    "embedding2 = embeddings.embed_query(sentence2)\n",
    "embedding3 = embeddings.embed_query(sentence3)"
   ]
  },
  {
   "cell_type": "code",
   "execution_count": 4,
   "metadata": {},
   "outputs": [],
   "source": [
    "import numpy as np"
   ]
  },
  {
   "cell_type": "code",
   "execution_count": 5,
   "metadata": {},
   "outputs": [
    {
     "data": {
      "text/plain": [
       "np.float64(0.8321000718621934)"
      ]
     },
     "execution_count": 5,
     "metadata": {},
     "output_type": "execute_result"
    }
   ],
   "source": [
    "np.dot(embedding1, embedding2)"
   ]
  },
  {
   "cell_type": "code",
   "execution_count": 6,
   "metadata": {},
   "outputs": [
    {
     "data": {
      "text/plain": [
       "np.float64(0.15663728179780806)"
      ]
     },
     "execution_count": 6,
     "metadata": {},
     "output_type": "execute_result"
    }
   ],
   "source": [
    "np.dot(embedding1, embedding3)"
   ]
  },
  {
   "cell_type": "markdown",
   "metadata": {},
   "source": [
    "## Vector Store"
   ]
  },
  {
   "cell_type": "markdown",
   "metadata": {},
   "source": [
    "### DOCS"
   ]
  },
  {
   "cell_type": "code",
   "execution_count": 9,
   "metadata": {},
   "outputs": [
    {
     "name": "stderr",
     "output_type": "stream",
     "text": [
      "Ignoring wrong pointing object 6 0 (offset 0)\n",
      "Ignoring wrong pointing object 8 0 (offset 0)\n",
      "Ignoring wrong pointing object 10 0 (offset 0)\n",
      "Ignoring wrong pointing object 12 0 (offset 0)\n",
      "Ignoring wrong pointing object 14 0 (offset 0)\n",
      "Ignoring wrong pointing object 16 0 (offset 0)\n",
      "Ignoring wrong pointing object 18 0 (offset 0)\n",
      "Ignoring wrong pointing object 20 0 (offset 0)\n",
      "Ignoring wrong pointing object 22 0 (offset 0)\n",
      "Ignoring wrong pointing object 24 0 (offset 0)\n",
      "Ignoring wrong pointing object 26 0 (offset 0)\n",
      "Ignoring wrong pointing object 32 0 (offset 0)\n",
      "Ignoring wrong pointing object 34 0 (offset 0)\n",
      "Ignoring wrong pointing object 36 0 (offset 0)\n",
      "Ignoring wrong pointing object 38 0 (offset 0)\n",
      "Ignoring wrong pointing object 43 0 (offset 0)\n",
      "Ignoring wrong pointing object 45 0 (offset 0)\n"
     ]
    }
   ],
   "source": [
    "from langchain_community.document_loaders import PyPDFLoader\n",
    "loader = PyPDFLoader(\"../data/The_7th_Sense_For_Data-Driven_Decision_Mastery_Paper_V2.pdf\")\n",
    "pages = loader.load()"
   ]
  },
  {
   "cell_type": "code",
   "execution_count": 10,
   "metadata": {},
   "outputs": [
    {
     "data": {
      "text/plain": [
       "7"
      ]
     },
     "execution_count": 10,
     "metadata": {},
     "output_type": "execute_result"
    }
   ],
   "source": [
    "len(pages)"
   ]
  },
  {
   "cell_type": "code",
   "execution_count": 11,
   "metadata": {},
   "outputs": [],
   "source": [
    "from langchain_text_splitters import RecursiveCharacterTextSplitter\n",
    "\n",
    "text_splitter = RecursiveCharacterTextSplitter(\n",
    "    chunk_size = 1500,\n",
    "    chunk_overlap = 150\n",
    ")"
   ]
  },
  {
   "cell_type": "code",
   "execution_count": 12,
   "metadata": {},
   "outputs": [],
   "source": [
    "splits = text_splitter.split_documents(pages)"
   ]
  },
  {
   "cell_type": "code",
   "execution_count": 16,
   "metadata": {},
   "outputs": [
    {
     "data": {
      "text/plain": [
       "Document(metadata={'source': '../data/The_7th_Sense_For_Data-Driven_Decision_Mastery_Paper_V2.pdf', 'page': 0, 'page_label': '1'}, page_content='1  \\nThe 7th Sense For Data-Driven Decision Mastery Raja Brundha A  Assistant Professor Department of Artificial  Intelligence and Data Science,  Sri Sai Ram Engineering College, Chennai, Tamil Nadu, India. rajabrundha.ai@sairam.edu.in   \\nAbubacker S  Student Department of Artificial  Intelligence and Data Science, Sri Sai Ram Engineering College, Chennai, Tamil Nadu, India. nav.abubacker@gmail.com    \\nDeva Praveen K  Student Department of Artificial  Intelligence and Data Science,  Sri Sai Ram Engineering College, Chennai, Tamil Nadu, India. devapraveen20@gmail.com')"
      ]
     },
     "execution_count": 16,
     "metadata": {},
     "output_type": "execute_result"
    }
   ],
   "source": [
    "splits[0]"
   ]
  },
  {
   "cell_type": "code",
   "execution_count": 13,
   "metadata": {},
   "outputs": [
    {
     "data": {
      "text/plain": [
       "36"
      ]
     },
     "execution_count": 13,
     "metadata": {},
     "output_type": "execute_result"
    }
   ],
   "source": [
    "len(splits)"
   ]
  },
  {
   "cell_type": "code",
   "execution_count": null,
   "metadata": {},
   "outputs": [],
   "source": [
    "%pip install langchain-chroma"
   ]
  },
  {
   "cell_type": "code",
   "execution_count": 8,
   "metadata": {},
   "outputs": [],
   "source": [
    "from langchain_chroma import Chroma\n",
    "\n",
    "persist_directory = '../data/chroma/'"
   ]
  },
  {
   "cell_type": "code",
   "execution_count": null,
   "metadata": {},
   "outputs": [],
   "source": [
    "vectordb = Chroma.from_documents(\n",
    "    documents=splits,\n",
    "    embedding=embeddings,\n",
    "    persist_directory=persist_directory\n",
    ")"
   ]
  },
  {
   "cell_type": "code",
   "execution_count": null,
   "metadata": {},
   "outputs": [],
   "source": [
    "print(vectordb._collection.count())"
   ]
  },
  {
   "cell_type": "code",
   "execution_count": null,
   "metadata": {},
   "outputs": [],
   "source": []
  }
 ],
 "metadata": {
  "kernelspec": {
   "display_name": "generativeai",
   "language": "python",
   "name": "python3"
  },
  "language_info": {
   "codemirror_mode": {
    "name": "ipython",
    "version": 3
   },
   "file_extension": ".py",
   "mimetype": "text/x-python",
   "name": "python",
   "nbconvert_exporter": "python",
   "pygments_lexer": "ipython3",
   "version": "3.13.1"
  }
 },
 "nbformat": 4,
 "nbformat_minor": 2
}
